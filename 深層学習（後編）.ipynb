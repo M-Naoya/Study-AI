{
  "nbformat": 4,
  "nbformat_minor": 0,
  "metadata": {
    "colab": {
      "name": "深層学習（後編）.ipynb",
      "provenance": [],
      "collapsed_sections": [],
      "toc_visible": true,
      "mount_file_id": "14abvgOpbI3eKeYajXOnQU8mJaleNbUJl",
      "authorship_tag": "ABX9TyO6tpME4Wdn+YgaP5svahqq",
      "include_colab_link": true
    },
    "kernelspec": {
      "name": "python3",
      "display_name": "Python 3"
    },
    "language_info": {
      "name": "python"
    }
  },
  "cells": [
    {
      "cell_type": "markdown",
      "metadata": {
        "id": "view-in-github",
        "colab_type": "text"
      },
      "source": [
        "<a href=\"https://colab.research.google.com/github/M-Naoya/Study-AI/blob/main/%E6%B7%B1%E5%B1%A4%E5%AD%A6%E7%BF%92%EF%BC%88%E5%BE%8C%E7%B7%A8%EF%BC%89.ipynb\" target=\"_parent\"><img src=\"https://colab.research.google.com/assets/colab-badge.svg\" alt=\"Open In Colab\"/></a>"
      ]
    },
    {
      "cell_type": "markdown",
      "metadata": {
        "id": "YzhZaWsTAueQ"
      },
      "source": [
        "# 再帰型ニューラルネットワークの概念"
      ]
    },
    {
      "cell_type": "markdown",
      "metadata": {
        "id": "rYz6viEKBtM3"
      },
      "source": [
        "## 概要\n",
        "- RNNとは、時系列データに対応可能なニューラルネットワークのこと。初期の状態と過去の時間t-1の状態を保持し、そこから次の時間でのtを再帰的に求める再帰構造を持つことで時系列データを扱うことが可能になっている。\n",
        "- 時系列データとは、①時間的順序を追って一定間隔ごとに観察され、②相互に統計的依存関係が認められるようなデータのこと。音声データ、気温データ等が時系列データに該当する。\n",
        "- BPTTとは、RNNにおけるパラメータ調整方法（誤差逆伝播）の一種。"
      ]
    },
    {
      "cell_type": "markdown",
      "metadata": {
        "id": "fhW3dlbAB8mh"
      },
      "source": [
        "## 確認テスト\n",
        "- RNNのネットワークには大きくわけて3つの重みがある。1つは入力から現在の中間層を定義する際にかけられる重み、1つは中間層から出力を定義する際にかけられる重みである。残り1つの重みについて説明せよ。\n",
        "  - 残り1つの重みは過去の中間層のデータを現在の中間層にわたすときにかけられる重みである。現在の中間層のインプットは、過去の中間層のデータと、現在の入力層のデータの2つになる。\n",
        "- 連鎖律の原理を使い、dz/dxを求めよ。（5分）z = t**2、t = x +y\n",
        "  - dz/dx = dz/dt * dt/dx = 2t * 1 = 2t\n",
        "- 下図のy1をx・s0・s1・win・w・woutを用いて数式で表せ。※バイアスは任意の文字で定義せよ。※また中間層の出力にシグモイド関数g(x)を作用させよ。\n",
        "  - y1 = g(Wout * S1 + C)、S1 = Win * X1 + W * S0 + b"
      ]
    },
    {
      "cell_type": "markdown",
      "metadata": {
        "id": "yviPNwVmBtM4"
      },
      "source": [
        "## 実装演習"
      ]
    },
    {
      "cell_type": "markdown",
      "metadata": {
        "id": "O7zQEPrtP4OP"
      },
      "source": [
        "\n",
        "---------------------------------------------------------------------------------------------------------------------------------------------------------------------------------------------\n",
        "### [try] weight_init_stdやlearning_rate, hidden_layer_sizeを変更してみよう\n",
        "\n",
        "\n",
        "### [try] 重みの初期化方法を変更してみよう\n",
        "Xavier, He\n",
        "\n",
        "### [try] 中間層の活性化関数を変更してみよう\n",
        "ReLU(勾配爆発を確認しよう)<br>\n",
        "tanh(numpyにtanhが用意されている。導関数をd_tanhとして作成しよう)\n",
        "\n",
        "---------------------------------------------------------------------------------------------------------------------------------------------------------------------------------------------"
      ]
    },
    {
      "cell_type": "code",
      "metadata": {
        "colab": {
          "base_uri": "https://localhost:8080/",
          "height": 1000
        },
        "id": "69XfQ3xCGmyL",
        "outputId": "2890d6c6-15f3-468d-b4af-8ae512a3c428"
      },
      "source": [
        "import sys\n",
        "sys.path.append('/content/drive/MyDrive/002_Work/002_Study-AI/004_深層学習（後編）/DNN_code_colab_lesson_3_4')\n",
        "\n",
        "import numpy as np\n",
        "from common import functions\n",
        "import matplotlib.pyplot as plt\n",
        "\n",
        "# def d_tanh(x):\n",
        "\n",
        "\n",
        "\n",
        "# データを用意\n",
        "# 2進数の桁数\n",
        "binary_dim = 8\n",
        "# 最大値 + 1\n",
        "largest_number = pow(2, binary_dim)\n",
        "# largest_numberまで2進数を用意\n",
        "binary = np.unpackbits(np.array([range(largest_number)],dtype=np.uint8).T,axis=1)\n",
        "\n",
        "input_layer_size = 2\n",
        "hidden_layer_size = 16\n",
        "output_layer_size = 1\n",
        "\n",
        "#weight_init_std = 1\n",
        "weight_init_std = 2\n",
        "#learning_rate = 0.1\n",
        "learning_rate = 0.2\n",
        "\n",
        "iters_num = 10000\n",
        "plot_interval = 100\n",
        "\n",
        "# ウェイト初期化 (バイアスは簡単のため省略)\n",
        "W_in = weight_init_std * np.random.randn(input_layer_size, hidden_layer_size)\n",
        "W_out = weight_init_std * np.random.randn(hidden_layer_size, output_layer_size)\n",
        "W = weight_init_std * np.random.randn(hidden_layer_size, hidden_layer_size)\n",
        "\n",
        "# Xavier\n",
        "W_in = weight_init_std * np.random.randn(input_layer_size, hidden_layer_size) / np.sqrt(input_layer_size)\n",
        "W_out = weight_init_std * np.random.randn(hidden_layer_size, output_layer_size) / np.sqrt(hidden_layer_size)\n",
        "W = weight_init_std * np.random.randn(hidden_layer_size, hidden_layer_size) / np.sqrt(hidden_layer_size)\n",
        "\n",
        "# He\n",
        "\n",
        "\n",
        "\n",
        "# 勾配\n",
        "W_in_grad = np.zeros_like(W_in)\n",
        "W_out_grad = np.zeros_like(W_out)\n",
        "W_grad = np.zeros_like(W)\n",
        "\n",
        "u = np.zeros((hidden_layer_size, binary_dim + 1))\n",
        "z = np.zeros((hidden_layer_size, binary_dim + 1))\n",
        "y = np.zeros((output_layer_size, binary_dim))\n",
        "\n",
        "delta_out = np.zeros((output_layer_size, binary_dim))\n",
        "delta = np.zeros((hidden_layer_size, binary_dim + 1))\n",
        "\n",
        "all_losses = []\n",
        "\n",
        "for i in range(iters_num):\n",
        "    \n",
        "    # A, B初期化 (a + b = d)\n",
        "    a_int = np.random.randint(largest_number/2)\n",
        "    a_bin = binary[a_int] # binary encoding\n",
        "    b_int = np.random.randint(largest_number/2)\n",
        "    b_bin = binary[b_int] # binary encoding\n",
        "    \n",
        "    # 正解データ\n",
        "    d_int = a_int + b_int\n",
        "    d_bin = binary[d_int]\n",
        "    \n",
        "    # 出力バイナリ\n",
        "    out_bin = np.zeros_like(d_bin)\n",
        "    \n",
        "    # 時系列全体の誤差\n",
        "    all_loss = 0    \n",
        "    \n",
        "    # 時系列ループ\n",
        "    for t in range(binary_dim):\n",
        "        # 入力値\n",
        "        X = np.array([a_bin[ - t - 1], b_bin[ - t - 1]]).reshape(1, -1)\n",
        "        # 時刻tにおける正解データ\n",
        "        dd = np.array([d_bin[binary_dim - t - 1]])\n",
        "        \n",
        "        u[:,t+1] = np.dot(X, W_in) + np.dot(z[:,t].reshape(1, -1), W)\n",
        "        z[:,t+1] = functions.relu(u[:,t+1])\n",
        "\n",
        "        y[:,t] = functions.relu(np.dot(z[:,t+1].reshape(1, -1), W_out))\n",
        "\n",
        "\n",
        "        #誤差\n",
        "        loss = functions.mean_squared_error(dd, y[:,t])\n",
        "        \n",
        "        delta_out[:,t] = functions.d_mean_squared_error(dd, y[:,t]) * functions.d_sigmoid(y[:,t])        \n",
        "        \n",
        "        all_loss += loss\n",
        "\n",
        "        out_bin[binary_dim - t - 1] = np.round(y[:,t])\n",
        "    \n",
        "    \n",
        "    for t in range(binary_dim)[::-1]:\n",
        "        X = np.array([a_bin[-t-1],b_bin[-t-1]]).reshape(1, -1)        \n",
        "\n",
        "        delta[:,t] = (np.dot(delta[:,t+1].T, W.T) + np.dot(delta_out[:,t].T, W_out.T)) * functions.d_sigmoid(u[:,t+1])\n",
        "\n",
        "        # 勾配更新\n",
        "        W_out_grad += np.dot(z[:,t+1].reshape(-1,1), delta_out[:,t].reshape(-1,1))\n",
        "        W_grad += np.dot(z[:,t].reshape(-1,1), delta[:,t].reshape(1,-1))\n",
        "        W_in_grad += np.dot(X.T, delta[:,t].reshape(1,-1))\n",
        "    \n",
        "    # 勾配適用\n",
        "    W_in -= learning_rate * W_in_grad\n",
        "    W_out -= learning_rate * W_out_grad\n",
        "    W -= learning_rate * W_grad\n",
        "    \n",
        "    W_in_grad *= 0\n",
        "    W_out_grad *= 0\n",
        "    W_grad *= 0\n",
        "    \n",
        "\n",
        "    if(i % plot_interval == 0):\n",
        "        all_losses.append(all_loss)        \n",
        "        print(\"iters:\" + str(i))\n",
        "        print(\"Loss:\" + str(all_loss))\n",
        "        print(\"Pred:\" + str(out_bin))\n",
        "        print(\"True:\" + str(d_bin))\n",
        "        out_int = 0\n",
        "        for index,x in enumerate(reversed(out_bin)):\n",
        "            out_int += x * pow(2, index)\n",
        "        print(str(a_int) + \" + \" + str(b_int) + \" = \" + str(out_int))\n",
        "        print(\"------------\")\n",
        "\n",
        "lists = range(0, iters_num, plot_interval)\n",
        "plt.plot(lists, all_losses, label=\"loss\")\n",
        "plt.show()"
      ],
      "execution_count": 4,
      "outputs": [
        {
          "output_type": "stream",
          "text": [
            "iters:0\n",
            "Loss:200.9454133757883\n",
            "Pred:[ 8 10 13  7  5  7  2  1]\n",
            "True:[0 1 1 0 0 0 0 1]\n",
            "27 + 70 = 2265\n",
            "------------\n",
            "iters:100\n",
            "Loss:26304.761688833933\n",
            "Pred:[162 118  72  67  48  33   7   1]\n",
            "True:[1 0 1 0 1 1 1 1]\n",
            "115 + 60 = 32195\n",
            "------------\n",
            "iters:200\n",
            "Loss:3.502794669764907\n",
            "Pred:[0 3 1 0 0 0 0 0]\n",
            "True:[0 1 0 1 0 1 1 0]\n",
            "47 + 39 = 224\n",
            "------------\n",
            "iters:300\n",
            "Loss:1.3245963411258947\n",
            "Pred:[1 1 1 0 0 1 1 1]\n",
            "True:[1 1 0 1 0 1 0 0]\n",
            "103 + 109 = 231\n",
            "------------\n",
            "iters:400\n",
            "Loss:1.484990690218616\n",
            "Pred:[0 1 0 0 0 0 0 0]\n",
            "True:[0 0 1 1 0 1 1 1]\n",
            "52 + 3 = 64\n",
            "------------\n",
            "iters:500\n",
            "Loss:1.1969587060541227\n",
            "Pred:[0 0 1 0 0 0 0 0]\n",
            "True:[0 1 0 0 1 0 1 1]\n",
            "49 + 26 = 32\n",
            "------------\n",
            "iters:600\n",
            "Loss:1.4197308189184839\n",
            "Pred:[0 0 1 0 0 1 0 0]\n",
            "True:[1 1 0 0 0 1 1 1]\n",
            "117 + 82 = 36\n",
            "------------\n",
            "iters:700\n",
            "Loss:0.320688378717194\n",
            "Pred:[0 0 1 1 0 0 0 1]\n",
            "True:[0 0 1 1 0 0 0 1]\n",
            "12 + 37 = 49\n",
            "------------\n",
            "iters:800\n",
            "Loss:1.6188386702375208\n",
            "Pred:[1 1 0 1 0 0 0 0]\n",
            "True:[1 0 0 1 1 0 1 1]\n",
            "49 + 106 = 208\n",
            "------------\n",
            "iters:900\n",
            "Loss:1.9258990045208688\n",
            "Pred:[0 0 1 1 0 1 0 1]\n",
            "True:[1 1 0 1 1 0 0 1]\n",
            "118 + 99 = 53\n",
            "------------\n",
            "iters:1000\n",
            "Loss:0.517124705854176\n",
            "Pred:[0 0 0 0 1 1 1 1]\n",
            "True:[0 0 0 0 1 1 0 1]\n",
            "10 + 3 = 15\n",
            "------------\n",
            "iters:1100\n",
            "Loss:1.0613902662258317\n",
            "Pred:[1 0 0 0 0 0 0 0]\n",
            "True:[1 0 0 1 0 1 1 1]\n",
            "87 + 64 = 128\n",
            "------------\n",
            "iters:1200\n",
            "Loss:1.0705858401448385\n",
            "Pred:[0 0 0 0 0 0 0 0]\n",
            "True:[0 1 1 0 0 0 1 0]\n",
            "15 + 83 = 0\n",
            "------------\n",
            "iters:1300\n",
            "Loss:0.6118752927616706\n",
            "Pred:[0 1 0 0 0 1 0 0]\n",
            "True:[0 1 1 0 0 1 0 0]\n",
            "34 + 66 = 68\n",
            "------------\n",
            "iters:1400\n",
            "Loss:1.2924380559371236\n",
            "Pred:[1 1 1 0 0 0 0 1]\n",
            "True:[1 0 1 1 0 1 1 0]\n",
            "99 + 83 = 225\n",
            "------------\n",
            "iters:1500\n",
            "Loss:0.8133907044008544\n",
            "Pred:[1 0 0 1 0 0 1 0]\n",
            "True:[1 0 0 0 0 1 0 0]\n",
            "109 + 23 = 146\n",
            "------------\n",
            "iters:1600\n",
            "Loss:1.4142665347313725\n",
            "Pred:[1 1 1 1 1 1 1 1]\n",
            "True:[1 0 1 0 1 0 1 1]\n",
            "126 + 45 = 255\n",
            "------------\n",
            "iters:1700\n",
            "Loss:0.6340462766652891\n",
            "Pred:[0 0 1 1 1 1 0 0]\n",
            "True:[0 0 1 1 1 0 0 0]\n",
            "14 + 42 = 60\n",
            "------------\n",
            "iters:1800\n",
            "Loss:0.8262806190892379\n",
            "Pred:[0 1 1 1 1 1 1 1]\n",
            "True:[0 0 0 1 1 1 0 1]\n",
            "25 + 4 = 127\n",
            "------------\n",
            "iters:1900\n",
            "Loss:1.3166600503790022\n",
            "Pred:[0 1 1 1 0 1 1 1]\n",
            "True:[1 0 0 0 1 1 0 1]\n",
            "114 + 27 = 119\n",
            "------------\n",
            "iters:2000\n",
            "Loss:0.7818208414315255\n",
            "Pred:[0 1 0 0 0 1 0 0]\n",
            "True:[0 1 1 0 1 1 0 0]\n",
            "52 + 56 = 68\n",
            "------------\n",
            "iters:2100\n",
            "Loss:0.6407122578021534\n",
            "Pred:[1 0 0 1 0 1 1 0]\n",
            "True:[1 0 0 1 0 0 1 0]\n",
            "72 + 74 = 150\n",
            "------------\n",
            "iters:2200\n",
            "Loss:0.990060957619975\n",
            "Pred:[1 1 1 1 1 1 1 1]\n",
            "True:[0 0 0 1 1 1 1 1]\n",
            "2 + 29 = 255\n",
            "------------\n",
            "iters:2300\n",
            "Loss:0.5246538382740674\n",
            "Pred:[1 0 1 1 1 0 0 0]\n",
            "True:[1 0 1 1 1 0 0 1]\n",
            "71 + 114 = 184\n",
            "------------\n",
            "iters:2400\n",
            "Loss:0.8985658646926742\n",
            "Pred:[0 0 0 0 0 0 1 0]\n",
            "True:[0 0 1 0 0 1 1 0]\n",
            "37 + 1 = 2\n",
            "------------\n",
            "iters:2500\n",
            "Loss:1.7216838089436088\n",
            "Pred:[0 0 0 1 0 0 0 0]\n",
            "True:[0 1 0 0 1 1 1 0]\n",
            "47 + 31 = 16\n",
            "------------\n",
            "iters:2600\n",
            "Loss:0.5995122561585116\n",
            "Pred:[0 0 0 1 1 0 1 1]\n",
            "True:[0 0 0 1 1 1 0 1]\n",
            "14 + 15 = 27\n",
            "------------\n",
            "iters:2700\n",
            "Loss:1.0963532142487569\n",
            "Pred:[0 0 0 0 0 0 1 0]\n",
            "True:[0 1 0 0 0 1 0 0]\n",
            "35 + 33 = 2\n",
            "------------\n",
            "iters:2800\n",
            "Loss:1.174934261542058\n",
            "Pred:[0 0 1 0 1 0 0 0]\n",
            "True:[0 1 1 1 0 1 0 0]\n",
            "30 + 86 = 40\n",
            "------------\n",
            "iters:2900\n",
            "Loss:1.0569971273609442\n",
            "Pred:[0 0 0 0 1 1 1 0]\n",
            "True:[0 0 0 1 0 0 0 0]\n",
            "11 + 5 = 14\n",
            "------------\n",
            "iters:3000\n",
            "Loss:0.23031764344186867\n",
            "Pred:[0 0 0 0 0 1 1 1]\n",
            "True:[0 0 0 0 0 1 1 1]\n",
            "6 + 1 = 7\n",
            "------------\n",
            "iters:3100\n",
            "Loss:1.8605644967824575\n",
            "Pred:[1 0 1 1 1 1 0 1]\n",
            "True:[1 1 0 0 0 0 0 1]\n",
            "119 + 74 = 189\n",
            "------------\n",
            "iters:3200\n",
            "Loss:2.396394735633821\n",
            "Pred:[0 1 1 0 0 1 1 1]\n",
            "True:[1 0 0 0 1 0 0 0]\n",
            "103 + 33 = 103\n",
            "------------\n",
            "iters:3300\n",
            "Loss:1.013336615565759\n",
            "Pred:[1 1 0 1 1 1 1 0]\n",
            "True:[1 0 0 1 0 1 1 0]\n",
            "40 + 110 = 222\n",
            "------------\n",
            "iters:3400\n",
            "Loss:0.7535616894047281\n",
            "Pred:[1 0 0 0 0 0 0 0]\n",
            "True:[1 1 0 0 0 1 1 0]\n",
            "109 + 89 = 128\n",
            "------------\n",
            "iters:3500\n",
            "Loss:0.8338384711014413\n",
            "Pred:[0 1 1 0 0 1 0 0]\n",
            "True:[1 0 0 0 1 1 0 0]\n",
            "20 + 120 = 100\n",
            "------------\n",
            "iters:3600\n",
            "Loss:1.56326542264499\n",
            "Pred:[1 1 1 1 1 1 1 1]\n",
            "True:[1 1 0 0 1 1 0 0]\n",
            "119 + 85 = 255\n",
            "------------\n",
            "iters:3700\n",
            "Loss:2.083123112098118\n",
            "Pred:[0 0 0 0 0 0 0 0]\n",
            "True:[1 1 0 1 1 0 1 1]\n",
            "107 + 112 = 0\n",
            "------------\n",
            "iters:3800\n",
            "Loss:0.7894970551283097\n",
            "Pred:[1 1 0 1 1 0 1 1]\n",
            "True:[0 1 0 1 1 1 0 1]\n",
            "8 + 85 = 219\n",
            "------------\n",
            "iters:3900\n",
            "Loss:1.0173674188360124\n",
            "Pred:[1 0 1 0 1 0 0 1]\n",
            "True:[1 0 1 1 1 1 0 1]\n",
            "77 + 112 = 169\n",
            "------------\n",
            "iters:4000\n",
            "Loss:0.9798625110612944\n",
            "Pred:[0 1 0 1 1 1 0 1]\n",
            "True:[0 1 1 1 0 1 1 1]\n",
            "112 + 7 = 93\n",
            "------------\n",
            "iters:4100\n",
            "Loss:0.7680378036600216\n",
            "Pred:[1 1 0 1 1 1 0 1]\n",
            "True:[1 0 0 1 1 1 0 1]\n",
            "33 + 124 = 221\n",
            "------------\n",
            "iters:4200\n",
            "Loss:0.8252883527258961\n",
            "Pred:[0 0 0 0 1 0 1 0]\n",
            "True:[1 1 0 0 1 1 1 0]\n",
            "104 + 102 = 10\n",
            "------------\n",
            "iters:4300\n",
            "Loss:1.564066950559406\n",
            "Pred:[0 1 1 1 0 1 0 1]\n",
            "True:[1 0 0 0 1 0 1 1]\n",
            "125 + 14 = 117\n",
            "------------\n",
            "iters:4400\n",
            "Loss:0.9203092214204694\n",
            "Pred:[0 0 0 1 1 0 0 1]\n",
            "True:[0 1 0 1 1 1 1 0]\n",
            "55 + 39 = 25\n",
            "------------\n",
            "iters:4500\n",
            "Loss:0.4196618699125989\n",
            "Pred:[0 0 1 0 1 0 1 0]\n",
            "True:[0 0 1 0 1 0 1 0]\n",
            "41 + 1 = 42\n",
            "------------\n",
            "iters:4600\n",
            "Loss:0.7582255641611592\n",
            "Pred:[0 0 0 1 0 1 0 1]\n",
            "True:[0 1 0 1 0 0 0 1]\n",
            "78 + 3 = 21\n",
            "------------\n",
            "iters:4700\n",
            "Loss:0.7723452445055498\n",
            "Pred:[0 0 0 0 0 0 1 0]\n",
            "True:[0 1 1 0 0 1 1 0]\n",
            "97 + 5 = 2\n",
            "------------\n",
            "iters:4800\n",
            "Loss:0.9549969021288248\n",
            "Pred:[0 1 0 0 1 1 0 1]\n",
            "True:[1 0 0 1 1 1 1 1]\n",
            "80 + 79 = 77\n",
            "------------\n",
            "iters:4900\n",
            "Loss:1.14305637787461\n",
            "Pred:[0 0 1 0 0 0 1 0]\n",
            "True:[1 0 0 0 0 0 0 0]\n",
            "125 + 3 = 34\n",
            "------------\n",
            "iters:5000\n",
            "Loss:0.5957070794927855\n",
            "Pred:[0 1 1 0 1 0 0 1]\n",
            "True:[0 1 1 1 1 0 0 1]\n",
            "4 + 117 = 105\n",
            "------------\n",
            "iters:5100\n",
            "Loss:1.647999268266943\n",
            "Pred:[0 0 1 0 0 0 0 0]\n",
            "True:[1 1 0 1 0 1 0 1]\n",
            "89 + 124 = 32\n",
            "------------\n",
            "iters:5200\n",
            "Loss:0.7015319357246006\n",
            "Pred:[0 1 1 0 0 1 0 1]\n",
            "True:[0 0 1 1 1 1 0 1]\n",
            "59 + 2 = 101\n",
            "------------\n",
            "iters:5300\n",
            "Loss:1.979648347368056\n",
            "Pred:[1 0 0 0 1 1 0 0]\n",
            "True:[1 0 1 1 0 0 0 0]\n",
            "94 + 82 = 140\n",
            "------------\n",
            "iters:5400\n",
            "Loss:1.5875730811084379\n",
            "Pred:[0 0 0 1 1 0 0 0]\n",
            "True:[1 0 0 0 0 1 1 0]\n",
            "103 + 31 = 24\n",
            "------------\n",
            "iters:5500\n",
            "Loss:1.3553408983991355\n",
            "Pred:[0 1 1 0 0 0 0 1]\n",
            "True:[1 0 0 0 0 0 1 1]\n",
            "105 + 26 = 97\n",
            "------------\n",
            "iters:5600\n",
            "Loss:0.46990476810067217\n",
            "Pred:[0 1 1 1 0 0 0 1]\n",
            "True:[0 1 1 1 1 0 0 1]\n",
            "33 + 88 = 113\n",
            "------------\n",
            "iters:5700\n",
            "Loss:1.1627492532089654\n",
            "Pred:[0 1 1 0 0 1 1 1]\n",
            "True:[0 1 1 1 0 0 0 0]\n",
            "99 + 13 = 103\n",
            "------------\n",
            "iters:5800\n",
            "Loss:0.8032136653861072\n",
            "Pred:[1 1 0 1 1 1 1 1]\n",
            "True:[0 1 1 1 0 1 1 1]\n",
            "43 + 76 = 223\n",
            "------------\n",
            "iters:5900\n",
            "Loss:1.4215184936515273\n",
            "Pred:[0 0 1 1 0 1 0 1]\n",
            "True:[1 1 0 0 0 1 1 1]\n",
            "89 + 110 = 53\n",
            "------------\n",
            "iters:6000\n",
            "Loss:1.7941730256636914\n",
            "Pred:[1 0 1 0 1 0 1 0]\n",
            "True:[0 1 1 1 1 1 0 0]\n",
            "85 + 39 = 170\n",
            "------------\n",
            "iters:6100\n",
            "Loss:0.8056272602221154\n",
            "Pred:[1 1 0 1 0 0 1 0]\n",
            "True:[1 0 0 1 0 1 1 0]\n",
            "49 + 101 = 210\n",
            "------------\n",
            "iters:6200\n",
            "Loss:1.2110563356227508\n",
            "Pred:[0 1 1 1 0 1 1 1]\n",
            "True:[1 0 1 0 1 0 1 1]\n",
            "44 + 127 = 119\n",
            "------------\n",
            "iters:6300\n",
            "Loss:0.772637370488364\n",
            "Pred:[1 0 0 0 0 0 1 0]\n",
            "True:[1 0 1 1 0 0 1 0]\n",
            "120 + 58 = 130\n",
            "------------\n",
            "iters:6400\n",
            "Loss:0.7454202335707252\n",
            "Pred:[0 0 0 0 1 1 0 0]\n",
            "True:[1 1 0 1 1 1 0 0]\n",
            "124 + 96 = 12\n",
            "------------\n",
            "iters:6500\n",
            "Loss:0.3070777266086265\n",
            "Pred:[1 0 1 1 1 0 1 1]\n",
            "True:[1 0 1 1 1 0 1 1]\n",
            "83 + 104 = 187\n",
            "------------\n",
            "iters:6600\n",
            "Loss:0.352098286608955\n",
            "Pred:[0 1 1 0 0 1 1 1]\n",
            "True:[0 1 1 0 0 1 0 1]\n",
            "1 + 100 = 103\n",
            "------------\n",
            "iters:6700\n",
            "Loss:1.8411099897270446\n",
            "Pred:[0 1 1 0 1 1 1 1]\n",
            "True:[1 0 1 1 0 0 0 1]\n",
            "74 + 103 = 111\n",
            "------------\n",
            "iters:6800\n",
            "Loss:0.3708020178544341\n",
            "Pred:[0 1 1 1 1 1 0 0]\n",
            "True:[0 1 1 0 1 1 0 0]\n",
            "92 + 16 = 124\n",
            "------------\n",
            "iters:6900\n",
            "Loss:1.4571115284099112\n",
            "Pred:[1 1 0 1 0 0 1 1]\n",
            "True:[1 0 1 0 0 1 1 1]\n",
            "57 + 110 = 211\n",
            "------------\n",
            "iters:7000\n",
            "Loss:0.6410851908820063\n",
            "Pred:[1 0 0 0 0 1 0 0]\n",
            "True:[1 0 0 1 1 1 0 0]\n",
            "120 + 36 = 132\n",
            "------------\n",
            "iters:7100\n",
            "Loss:1.155136969394907\n",
            "Pred:[0 1 1 0 1 1 1 0]\n",
            "True:[0 1 0 0 1 0 0 0]\n",
            "50 + 22 = 110\n",
            "------------\n",
            "iters:7200\n",
            "Loss:0.3442843347627048\n",
            "Pred:[1 0 0 0 1 1 0 0]\n",
            "True:[1 0 0 0 1 1 0 1]\n",
            "76 + 65 = 140\n",
            "------------\n",
            "iters:7300\n",
            "Loss:1.0379447347602937\n",
            "Pred:[0 0 0 0 0 0 0 0]\n",
            "True:[1 0 1 0 1 0 0 1]\n",
            "71 + 98 = 0\n",
            "------------\n",
            "iters:7400\n",
            "Loss:1.0440142543048376\n",
            "Pred:[0 0 1 0 0 0 0 0]\n",
            "True:[0 0 1 1 0 1 1 1]\n",
            "31 + 24 = 32\n",
            "------------\n",
            "iters:7500\n",
            "Loss:0.7602811062506712\n",
            "Pred:[1 1 1 0 0 1 1 1]\n",
            "True:[1 0 0 0 1 1 1 1]\n",
            "124 + 19 = 231\n",
            "------------\n",
            "iters:7600\n",
            "Loss:0.9550153977018552\n",
            "Pred:[0 1 0 0 0 0 1 0]\n",
            "True:[0 1 1 1 1 0 1 0]\n",
            "67 + 55 = 66\n",
            "------------\n",
            "iters:7700\n",
            "Loss:0.7215701118250704\n",
            "Pred:[0 1 0 0 1 0 1 0]\n",
            "True:[0 1 1 0 1 0 0 1]\n",
            "17 + 88 = 74\n",
            "------------\n",
            "iters:7800\n",
            "Loss:0.7928128532626164\n",
            "Pred:[0 0 1 1 1 1 0 1]\n",
            "True:[1 1 0 1 1 0 0 1]\n",
            "116 + 101 = 61\n",
            "------------\n",
            "iters:7900\n",
            "Loss:0.6836823840498967\n",
            "Pred:[1 0 1 1 1 1 1 1]\n",
            "True:[1 1 1 0 1 1 1 1]\n",
            "114 + 125 = 191\n",
            "------------\n",
            "iters:8000\n",
            "Loss:1.2787485822479685\n",
            "Pred:[0 0 0 0 1 1 0 1]\n",
            "True:[0 0 0 1 1 0 0 1]\n",
            "2 + 23 = 13\n",
            "------------\n",
            "iters:8100\n",
            "Loss:0.8063102572818434\n",
            "Pred:[0 1 1 0 1 0 0 0]\n",
            "True:[0 1 0 0 1 0 0 0]\n",
            "56 + 16 = 104\n",
            "------------\n",
            "iters:8200\n",
            "Loss:0.9425265262357295\n",
            "Pred:[0 0 0 0 0 0 0 0]\n",
            "True:[0 1 1 0 1 0 1 0]\n",
            "42 + 64 = 0\n",
            "------------\n",
            "iters:8300\n",
            "Loss:0.8063143115734795\n",
            "Pred:[1 0 0 1 0 0 0 1]\n",
            "True:[1 0 1 0 0 0 0 1]\n",
            "91 + 70 = 145\n",
            "------------\n",
            "iters:8400\n",
            "Loss:0.9821917149436328\n",
            "Pred:[0 1 0 0 1 0 1 0]\n",
            "True:[1 0 0 0 1 0 1 0]\n",
            "33 + 105 = 74\n",
            "------------\n",
            "iters:8500\n",
            "Loss:0.6441783104409208\n",
            "Pred:[0 1 1 0 1 1 1 1]\n",
            "True:[0 1 1 1 0 1 1 1]\n",
            "69 + 50 = 111\n",
            "------------\n",
            "iters:8600\n",
            "Loss:1.268736059189972\n",
            "Pred:[0 0 0 0 0 0 0 0]\n",
            "True:[0 1 1 1 0 0 0 1]\n",
            "113 + 0 = 0\n",
            "------------\n",
            "iters:8700\n",
            "Loss:1.1075064216538322\n",
            "Pred:[1 1 1 1 1 1 1 0]\n",
            "True:[1 0 0 1 0 1 1 0]\n",
            "122 + 28 = 254\n",
            "------------\n",
            "iters:8800\n",
            "Loss:1.2299840440678054\n",
            "Pred:[0 0 0 1 1 1 0 0]\n",
            "True:[1 1 1 0 1 1 1 0]\n",
            "117 + 121 = 28\n",
            "------------\n",
            "iters:8900\n",
            "Loss:0.9947311715038978\n",
            "Pred:[0 1 0 1 0 1 0 1]\n",
            "True:[1 0 0 1 0 1 0 0]\n",
            "21 + 127 = 85\n",
            "------------\n",
            "iters:9000\n",
            "Loss:1.617064270345845\n",
            "Pred:[0 0 1 0 1 1 1 0]\n",
            "True:[1 1 1 1 1 0 0 0]\n",
            "126 + 122 = 46\n",
            "------------\n",
            "iters:9100\n",
            "Loss:1.214067980782399\n",
            "Pred:[1 0 0 0 0 0 0 0]\n",
            "True:[1 0 1 0 0 1 0 1]\n",
            "47 + 118 = 128\n",
            "------------\n",
            "iters:9200\n",
            "Loss:0.9704699410539643\n",
            "Pred:[0 1 0 0 0 0 0 0]\n",
            "True:[0 1 0 1 0 0 0 1]\n",
            "25 + 56 = 64\n",
            "------------\n",
            "iters:9300\n",
            "Loss:0.4809737267863445\n",
            "Pred:[1 1 1 0 0 1 1 1]\n",
            "True:[1 0 1 1 0 1 1 1]\n",
            "93 + 90 = 231\n",
            "------------\n",
            "iters:9400\n",
            "Loss:1.1662050340417975\n",
            "Pred:[0 1 1 0 0 1 1 1]\n",
            "True:[0 1 0 0 0 1 0 1]\n",
            "21 + 48 = 103\n",
            "------------\n",
            "iters:9500\n",
            "Loss:1.3027036330586519\n",
            "Pred:[0 1 1 0 1 0 0 0]\n",
            "True:[1 0 0 0 0 1 0 1]\n",
            "102 + 31 = 104\n",
            "------------\n",
            "iters:9600\n",
            "Loss:1.3882890623623239\n",
            "Pred:[0 0 0 1 0 0 0 0]\n",
            "True:[1 1 0 0 1 0 1 0]\n",
            "92 + 110 = 16\n",
            "------------\n",
            "iters:9700\n",
            "Loss:1.4080261985571692\n",
            "Pred:[0 0 1 0 0 0 0 0]\n",
            "True:[1 0 0 1 0 1 1 1]\n",
            "126 + 25 = 32\n",
            "------------\n",
            "iters:9800\n",
            "Loss:1.1188032025521433\n",
            "Pred:[1 1 1 1 1 1 1 1]\n",
            "True:[1 0 1 0 0 1 1 1]\n",
            "62 + 105 = 255\n",
            "------------\n",
            "iters:9900\n",
            "Loss:1.6862521384400992\n",
            "Pred:[0 0 1 0 1 1 1 1]\n",
            "True:[0 0 1 1 0 0 0 0]\n",
            "47 + 1 = 47\n",
            "------------\n"
          ],
          "name": "stdout"
        },
        {
          "output_type": "display_data",
          "data": {
            "image/png": "[encoded data removed]",
            "text/plain": [
              "<Figure size 432x288 with 1 Axes>"
            ]
          },
          "metadata": {
            "tags": [],
            "needs_background": "light"
          }
        }
      ]
    },
    {
      "cell_type": "markdown",
      "metadata": {
        "id": "ANFv4Z8jA9eQ"
      },
      "source": [
        "# LSTM"
      ]
    },
    {
      "cell_type": "markdown",
      "metadata": {
        "id": "bs0qzsnaBsob"
      },
      "source": [
        "## 概要\n",
        "- LSTMとは、「時系列を遡れば遡るほど勾配が消失していくため、長い時系列の学習が困難」というRNNの課題を解決した手法。ReLU関数を使用する等の方法ではなく、構造自体を変えることで課題を解決している。\n",
        "- CECとは、過去のデータを保存するためのユニットのこと。入力データの重みが一律で学習特性がないという課題（入力重み衝突、出力重み衝突）がある。これを解決するため、入力・出力ゲートが設けられている。それぞれのゲートで入力値の重みを可変可能としている。\n",
        "- CECには過去の情報がすべて保管されており、要らなくなった情報まで保管され続けるという課題があった。これを解決したのが忘却ゲートである。忘却ゲートは情報が要らなくなった時点でその情報を忘却する機能を持つ。\n",
        "- のぞき穴結合とは、CEC自身の値に、重み行列を介して他のノードに情報を伝播させたり、任意のタイミングで忘却させることを可能にした構造。"
      ]
    },
    {
      "cell_type": "markdown",
      "metadata": {
        "id": "E0US27O0B9DD"
      },
      "source": [
        "## 確認テスト\n",
        "- シグモイド関数を微分した時、入力値が0の時に最大値をとる。その値として正しいものを選択肢から選べ。\n",
        "  - (1 - sigmoid(x)) * sigmoid(x)のxに0を代入すると、0.25なので、（2）が正しい。\n",
        "- 以下の文章をLSTMに入力し空欄に当てはまる単語を予測したいとする。文中の「とても」という言葉は空欄の予測においてなくなっても影響を及ぼさないと考えられる。このような場合、どのゲートが作用すると考えられるか。「映画おもしろかったね。ところで、とてもお腹が空いたから何か____。」（3分）確認テスト\n",
        "  - 忘却ゲート。空欄の予測には不要な情報のため忘却してしまって良いから。\n"
      ]
    },
    {
      "cell_type": "code",
      "metadata": {
        "colab": {
          "base_uri": "https://localhost:8080/"
        },
        "id": "j6sH5SmyMFfh",
        "outputId": "0d1157b0-0dad-47f9-9c05-53ed836a0ffa"
      },
      "source": [
        "def sigmoid(x):\n",
        "  return 1/(1 + np.exp(-x))\n",
        "x = 0\n",
        "(1 - sigmoid(x)) * sigmoid(x)"
      ],
      "execution_count": 5,
      "outputs": [
        {
          "output_type": "execute_result",
          "data": {
            "text/plain": [
              "0.25"
            ]
          },
          "metadata": {
            "tags": []
          },
          "execution_count": 5
        }
      ]
    },
    {
      "cell_type": "markdown",
      "metadata": {
        "id": "LYamZS8wBsoc"
      },
      "source": [
        "## 実装演習\n",
        "- 演習チャレンジのコードを実装する。"
      ]
    },
    {
      "cell_type": "code",
      "metadata": {
        "id": "LKUCu96ETZpl"
      },
      "source": [
        "def lstm(x, prev_h, prev_c, W, U, b):\n",
        "\n",
        "  lstm_in = activation(x.dot(W.T) + prev_h.dot(U.T) + b)\n",
        "  a, i, f, o = np.hsplit(lstm_in, 4)\n",
        "\n",
        "  a = np.tanh(a)\n",
        "  input_gate = _sigmoid(i)\n",
        "  forget_gate = _sigmoid(f)\n",
        "  output_gate = _sigmoid(o)\n",
        "\n",
        "  c = input_gate* a + forget_gate* c\n",
        "  h = output_gate * np.tanh(c)\n",
        "  return c, h\n"
      ],
      "execution_count": 7,
      "outputs": []
    },
    {
      "cell_type": "markdown",
      "metadata": {
        "id": "WoiHESzJBAMw"
      },
      "source": [
        "# GRU"
      ]
    },
    {
      "cell_type": "markdown",
      "metadata": {
        "id": "p-T369kHBtuN"
      },
      "source": [
        "## 概要\n",
        "- GRUとは、LSTMのパラメータ数を大幅に削減しつつ、精度はLSTM同等かそれ以上を保つことに成功した構造。メリットは、パラメータ数が少ないため計算不可が低いこと。これにより、LSTMのパラメータ数が多く、計算不可が高くなるという課題を解決した。"
      ]
    },
    {
      "cell_type": "markdown",
      "metadata": {
        "id": "OdWC33QJB9rS"
      },
      "source": [
        "## 確認テスト\n",
        "- LSTMとCECが抱える課題について、それぞれ簡潔に述べよ。（3分）\n",
        "  - LSTMの課題：パラメータ数が多いため、計算不可が高い。\n",
        "  - CECの課題：①入力重み衝突と出力重み衝突により重みがうまく学習できず精度が上がりづらい→入力ゲート、出力ゲートにより解決。②過去の不要な情報まで保持してしまう。→忘却ゲートにより解決。\n",
        "- LSTMとGRUの違いを簡潔に述べよ。\n",
        "  - パラメータ数の違い。LSTMはパラメータ数が多く計算負荷が高くなるという課題があるのに対し、GRUはパラメータ数が少なく計算負荷は低い。\n"
      ]
    },
    {
      "cell_type": "markdown",
      "metadata": {
        "id": "yHhdcJxTBtuO"
      },
      "source": [
        "## 実装演習\n",
        "- 演習チャレンジを実装"
      ]
    },
    {
      "cell_type": "code",
      "metadata": {
        "id": "kXez9Kp0UPFk"
      },
      "source": [
        "def gru(x, h, W_r, U_r, W_z, U_z, W, U):\n",
        "  r = _sigmoid(x.dot(W_r.T + h.dot(U_r.T)))\n",
        "  z = _sigmoid(x.dot(W_z.T + h.dot(U_z.T)))\n",
        "\n",
        "  h_bar = np.tanh(x.dot(W.T) + (r*h).dot(U.T))\n",
        "  h_new = (1-z) * h + z * h_bar\n",
        "  return h_new\n"
      ],
      "execution_count": 8,
      "outputs": []
    },
    {
      "cell_type": "markdown",
      "metadata": {
        "id": "39JO3iq-BAk6"
      },
      "source": [
        "# 双方向RNN"
      ]
    },
    {
      "cell_type": "markdown",
      "metadata": {
        "id": "5xC3SD09BuK9"
      },
      "source": [
        "## 概要\n",
        "- 双方向RNNとは、過去の情報だけでなく未来の情報を加味することで精度を向上させるためのモデル。文章の推敲や機械翻訳等で用いられている。\n",
        "- 最初のステップから順方向に予想するのと同時に、最後のステップからの逆方向の予測も行う。\n",
        "- 双方向RNNはBRNNとも言う。\n",
        "- 活用事例として誤字脱字検出プログラムへの利用例を確認した。"
      ]
    },
    {
      "cell_type": "markdown",
      "metadata": {
        "id": "AV_bUAlEB-In"
      },
      "source": [
        "## 確認テスト\n",
        "- 以下は双方向RNNの順伝播を行うプログラムである。順方向については、入力から中間層への重みW_f, 一ステップ前の中間層出力から中間層への重みをU_f、逆方向に関しては同様にパラメータW_b, U_bを持ち、両者の中間層表現を合わせた特徴から出力層への重みはVである。_rnn関数はRNNの順伝播を表し中間層の系列を返す関数であるとする。（か）にあてはまるのはどれか\n",
        "  - （4）np.concatenate([h_f, h_b[::-1]], axis=1)が正しい。順方向に伝播したときの中間層表現h_f、逆方向に伝播したときの中間層表現h_bをあわせているから。"
      ]
    },
    {
      "cell_type": "markdown",
      "metadata": {
        "id": "pZdDT8dpBuK-"
      },
      "source": [
        "## 実装演習"
      ]
    },
    {
      "cell_type": "code",
      "metadata": {
        "id": "YFCcmdZoWd_J"
      },
      "source": [
        "def bidirectional_rnn_net(xs, W_f, U_f, W_b, U_b, V):\n",
        "  xs_f = np.zeros_like(xs)\n",
        "  xs_b = np.zeros_like(xs)\n",
        "  for i, x in enumerate(xs):\n",
        "    xs_f[i] = x\n",
        "    xs_b[i] = x[::-1]\n",
        "  hs_f = _rnn(xs_f, W_f, U_f)\n",
        "  hs_b = _rnn(xs_b, W_b, U_b)\n",
        "  hs = [np.concatenate([h_f, h_b[::-1]], axis=1) for h_f, h_b in zip(hs_f, hs_b)]\n",
        "  ys = hs.dot(V.T)\n",
        "  return ys"
      ],
      "execution_count": 9,
      "outputs": []
    },
    {
      "cell_type": "markdown",
      "metadata": {
        "id": "UTghf8kQBA38"
      },
      "source": [
        "# Seq2Seq"
      ]
    },
    {
      "cell_type": "markdown",
      "metadata": {
        "id": "A3kTcSWwBucq"
      },
      "source": [
        "## 概要\n",
        "- Seq2SeqとはEncoder-Decoderモデルの一種。Googleにより開発された技術で、機械対話や機械翻訳などに使用されている。\n",
        "- Encoder RNNとは、ユーザーがインプットしたテキストデータを単語等のトークンに区切って渡す構造のこと。処理手順としては、vec1をRNNに入力→hidden stateを出力→前のhidden stateとvec2をRNNに入力、以降は繰り返し。最後のhidden stateをfinal stateとしてとっておき、これが入力した文の意味を表すベクトルとなる。これをthought vectorと呼ぶ。\n",
        "- Decoder RNNとは、システムがアウトプットデータを、単語等のトークンごとに生成する構造。\n",
        "- Seq2Seqの一問一答しかできない課題を解決したのがHRED。過去n-1この発話から次の発話を生成する。会話の流れのような多様性を表現できないこと、情報量に乏しい答えをしがちという課題がある。VHREDでHREDの課題は解決される。\n",
        "- オートエンコーダとは、教師なし学習の一つ。オートエンコーダのメリットは次元削減が行えること。\n",
        "- オートエンコーダーの潜在変数zに正規分布を仮定することで構造把握を可能にしたものをVAEという。"
      ]
    },
    {
      "cell_type": "markdown",
      "metadata": {
        "id": "lsvCx-T8B-ge"
      },
      "source": [
        "## 確認テスト\n",
        "- 下記の選択肢から、seq2seqについて説明しているものを選べ。\n",
        "  - （2）RNNを用いたEncoder-Decoderモデルの一種であり、機械翻訳などのモデルに使われる。が正しい。\n",
        "  - 1は双方向RNN、3は再帰型ニューラルネットワークの概念、4はLSTMの説明\n",
        "- seq2seqとHRED、HREDとVHREDの違いを簡潔に述べよ。\n",
        "  - seq2seqの一問一答しかできない課題を解決したのがHRED。HREDの短い応答しかできない、会話の流れを表現できない課題を解決したのがVHRED。\n",
        "- VAEに関する下記の説明文中の空欄に当てはまる言葉を答えよ。自己符号化器の潜在変数に____を導入したもの。（1分）確認テスト\n",
        "  - 確率分布z∼N(0,1)"
      ]
    },
    {
      "cell_type": "markdown",
      "metadata": {
        "id": "Zw2SmL0lBucs"
      },
      "source": [
        "## 実装演習"
      ]
    },
    {
      "cell_type": "code",
      "metadata": {
        "id": "QEQ4Hwn-bGg1"
      },
      "source": [
        "def encode(words, E, W, U, b):\n",
        "    hidden_size = W.shape[0]\n",
        "    h = np.zeros(hidden_size)\n",
        "    for w in words:\n",
        "      e = E.dot(w)\n",
        "      h = _activation(W.dot(e) + U.dot(h) + b)\n",
        "    return h"
      ],
      "execution_count": 10,
      "outputs": []
    },
    {
      "cell_type": "markdown",
      "metadata": {
        "id": "-eRnjIZ5BBLP"
      },
      "source": [
        "# Word2vec"
      ]
    },
    {
      "cell_type": "markdown",
      "metadata": {
        "id": "DdOMvbZ3Bu1H"
      },
      "source": [
        "## 概要\n",
        "- Word2vecはGoogleの開発者によって提案された手法で、「意味ベクトル」という単語のベクトル表現を可能にする手法のこと。\n",
        "- Word2vecでは学習データからボキャブラリを作成する。例えばapplesを入力すると、applesのラベルだけ1で、それ以外のボキャブラリにある単語のラベルが0のベクトルが入力される。\n",
        "- 大規模データの分散表現の学習が、現実的な計算速度とメモリ量で実現可能になったことがメリットである。"
      ]
    },
    {
      "cell_type": "markdown",
      "metadata": {
        "id": "hOXkjdOfB-2y"
      },
      "source": [
        "## 確認テスト\n",
        "- 本セクションでは確認テストなし。"
      ]
    },
    {
      "cell_type": "markdown",
      "metadata": {
        "id": "9Esk-sGKBu1I"
      },
      "source": [
        "## 実装演習\n",
        "- 本セクションでは実装演習なし。"
      ]
    },
    {
      "cell_type": "markdown",
      "metadata": {
        "id": "V_FI8kMvdJjK"
      },
      "source": [
        "## 関連記事\n",
        "- word2vecの活用例の一つとして、レコメンドシステムへの適用事例を調査した。下記記事ではword2vecをサービスに適用し、従来のレコメンドシステムよりword2vecを使用したレコメンドシステムのほうが効果が高いことを説明している。\n",
        "https://www.slideshare.net/recruitcojp/ss-56150629  参照"
      ]
    },
    {
      "cell_type": "markdown",
      "metadata": {
        "id": "bGI4GGXkBB7I"
      },
      "source": [
        "# Attention Mechanism"
      ]
    },
    {
      "cell_type": "markdown",
      "metadata": {
        "id": "c3xikTXdBvMI"
      },
      "source": [
        "## 概要\n",
        "- Seq2seqの課題として、長い文章への対応が難しいというものがあった。これを解決したのがAttention Mechanismである。入力と出力のどの単語が関連しているのかという関連度を学習する仕組みになっている。"
      ]
    },
    {
      "cell_type": "markdown",
      "metadata": {
        "id": "sdRizk6HB_Ml"
      },
      "source": [
        "## 確認テスト\n",
        "- RNNとword2vec、seq2seqとAttentionの違いを簡潔に述べよ。\n",
        "  - 固定長の文字列しか扱えないというRNNの課題を解決し可変長の文字列を扱えるようにしたのがword2vec。長い文章が扱いにくいというseq2seqの課題を解決したのがAttention。"
      ]
    },
    {
      "cell_type": "markdown",
      "metadata": {
        "id": "PHnq2iw5BvMJ"
      },
      "source": [
        "## 実装演習\n",
        "- 本セクションでは実装演習なし。"
      ]
    },
    {
      "cell_type": "markdown",
      "metadata": {
        "id": "XB2wsoVDfaXC"
      },
      "source": [
        "## 関連記事\n",
        "- 以下記事では、Attention Mechanismを画像分類モデルに活用した事例が紹介されている。本事例のようにAttention Mechanismは自然言語処理だけでなく、その他領域にも活用されていることがわかる。\n",
        "https://www.softbanktech.co.jp/special/blog/cloud_blog/2019/0063/  参照"
      ]
    },
    {
      "cell_type": "markdown",
      "metadata": {
        "id": "CDzN81uXBBml"
      },
      "source": [
        "# 強化学習"
      ]
    },
    {
      "cell_type": "markdown",
      "metadata": {
        "id": "HgGxRngsBv61"
      },
      "source": [
        "## 概要\n",
        "- 強化学習とは、行動の結果として与えられる報酬をもとに行動を決定する原理を改善していく仕組みのこと。より報酬が得られる行動を取るように学習していく。\n",
        "- 強化学習では、環境についての知識は不完全であると仮定する。\n",
        "- Q学習、関数近似法により強化学習の開発が進展した。Q学習は行動価値関数を行動するごとに更新することにより学習をすすめる方法。関数近似値法は、価値関数や方策関数を関数近似する方法のこと。\n",
        "- 価値関数は状態価値関数と行動価値関数の2種類ある。\n",
        "  - 状態価値関数：ある状態の価値に注目する場合。\n",
        "  - 行動価値関数：状態と価値を組み合わせた価値に注目する場合。\n",
        "- 方策関数はある状態でどの行動をとるのか、の確率を与える関数のこと。"
      ]
    },
    {
      "cell_type": "markdown",
      "metadata": {
        "id": "Xg_PJ3UZB_p6"
      },
      "source": [
        "## 確認テスト\n",
        "- 本セクションでは確認テストなし。"
      ]
    },
    {
      "cell_type": "markdown",
      "metadata": {
        "id": "0wcZWEuHBv61"
      },
      "source": [
        "## 実装演習\n",
        "- 本セクションでは実装演習なし。"
      ]
    },
    {
      "cell_type": "markdown",
      "metadata": {
        "id": "Rn1dx0Ehh5L2"
      },
      "source": [
        "## 関連記事\n",
        "- 以下記事では強化学習の活用事例が紹介されている。オンラインゲームにおける顧客体験向上から自然エネルギー発電網の最適化まで活用事例は非常に幅広く、非常に汎用性の高い技術と考える。\n",
        "https://ledge.ai/reinforcement-learning/　参照"
      ]
    },
    {
      "cell_type": "markdown",
      "metadata": {
        "id": "8Uw2VcA1BDrY"
      },
      "source": [
        "# AlphaGo"
      ]
    },
    {
      "cell_type": "markdown",
      "metadata": {
        "id": "1POSYwwVBwR6"
      },
      "source": [
        "## 概要\n",
        "- Google DeepMindによって開発された以後プログラムのこと。人間のプロ囲碁棋士を破った初のプログラムである。\n",
        "- モンテカルロ木探索はコンピュータ囲碁ソフトで現在最も有効とされている探索方法。AophaGoにおいても使用されている。\n",
        "- AlphaGoでは教師あり学習→強化学習のステップで学習を行っていたのに対し、AlphaGo Zeroでは教師あり学習のステップがなくなり強化学習のみで作成されている。"
      ]
    },
    {
      "cell_type": "markdown",
      "metadata": {
        "id": "hWnfjnkiCAFs"
      },
      "source": [
        "## 確認テスト\n",
        "- 本セクションでは確認テストなし。"
      ]
    },
    {
      "cell_type": "markdown",
      "metadata": {
        "id": "JVXMD9htBwR7"
      },
      "source": [
        "## 実装演習\n",
        "- 本セクションでは実装演習なし。"
      ]
    },
    {
      "cell_type": "markdown",
      "metadata": {
        "id": "lB5CvkDJnPJ0"
      },
      "source": [
        "## 関連記事\n",
        "- AlphaGoシリーズの最新モデルであるMuZeroが以下記事にて紹介されている。特筆すべき点としては、ゲームのルールすら学習させていない状態から学習する点である。\n",
        "https://xtrend.nikkei.com/atcl/contents/technology/00007/00032/　　参照"
      ]
    },
    {
      "cell_type": "markdown",
      "metadata": {
        "id": "dpcIkBRPBD_a"
      },
      "source": [
        "# 軽量化・高速化技術"
      ]
    },
    {
      "cell_type": "markdown",
      "metadata": {
        "id": "NxJ_-es0Bym0"
      },
      "source": [
        "## 概要\n",
        "- 深層学習においては、軽量化・高速化は重要。多くのデータを使用したり大量のパラメータ調整が求められるため。複数の計算資源を使用し並列的に入ラルネットを構成することで効率の良い学習を行う分散深層学習が必要になる。主な高速化手法は以下。\n",
        "  - データ並列化：親モデルを各ワーカーに子モデルとしてコピー。これら子モデルにデータを分割し、計算させる。パラメータの更新方法により同期型と非同期型がある。\n",
        "  - モデル並列化：親モデルを書くワーカーに分割しそれぞれのモデルを学習させる。最後に一つのモデルに復元する。モデルが大きいときに有効。\n",
        "  - GPUによる高速技術：もともとはグラフィック用途だが、簡単な並列処理が得意でニューラルネットと相性が良いため、高速化が可能になる。\n",
        "- モデルの軽量化とは、モデルの精度を維持しつつパラメータや演算回数を低減する手法の総称。モデル軽量化が求められるようになった背景としてはIoTやモバイル端末の普及がある。性能が低いこれら端末においても処理を行えるようにするためモデル軽量化が求められるようになった。主な軽量化手法は以下。\n",
        "  - 量子化：64floatのパラメータを32float等の下位の精度に落としメモリと演算処理の削減を行う。軽量化は実現できるが、精度低下の課題がある。\n",
        "  - 蒸留：学習済みの規模の大きなモデルの知識を軽量なモデルへ継承させることで軽量化を図る。\n",
        "  - プルーリング：モデルの精度向上に寄与していないニューロンを削除する。"
      ]
    },
    {
      "cell_type": "markdown",
      "metadata": {
        "id": "AOeusnYuCAX8"
      },
      "source": [
        "## 確認テスト\n",
        "- 本セクションでは確認テストなし。"
      ]
    },
    {
      "cell_type": "markdown",
      "metadata": {
        "id": "V8q-UyH-Bym1"
      },
      "source": [
        "## 実装演習\n",
        "- 本セクションでは実装演習なし。"
      ]
    },
    {
      "cell_type": "markdown",
      "metadata": {
        "id": "Ozci-T5fnupQ"
      },
      "source": [
        "## 関連記事\n",
        "- 以下記事では、Google Cloud TPUというGCP上の高速化技術について紹介されている。TPUは行列計算を高速に処理することを目的にGoogleが開発したハードウェア。このようにクラウド上サービスを活用することで実際のハードウェアを調達しなくとも、高速化を図れると考える。\n",
        "https://techblog.zozo.com/entry/tpu_metric_learning　　参照"
      ]
    },
    {
      "cell_type": "markdown",
      "metadata": {
        "id": "eVRR_oW3BEYh"
      },
      "source": [
        "# 応用モデル"
      ]
    },
    {
      "cell_type": "markdown",
      "metadata": {
        "id": "PJi1pyItBzJs"
      },
      "source": [
        "## 概要\n",
        "- MobileNet：計算コストの高い一般的な畳み込みレイヤーを改善し、軽量化を実現した手法。Depthwise Convolution、Pointwise Convolutionの組み合わせで軽量化を実現している。\n",
        "- DenseNet：畳み込みネットワークの一つ。層が深くなるにつれて学習が難しくなるというニューラルネットワークの課題を解決したアーキテクチャ。\n",
        "- Wavenet：生の音声波形を生成する深層学習モデル。このモデルでは時系列データに対して畳み込みを適用している。"
      ]
    },
    {
      "cell_type": "markdown",
      "metadata": {
        "id": "V9ZBjkBVCArd"
      },
      "source": [
        "## 確認テスト\n",
        "- 深層学習を用いて結合確率を学習する際に、効率的に学習が行えるアーキテクチャを提案したことがWaveNet の大きな貢献の1 つである。提案された新しいConvolution 型アーキテクチャは（あ）と呼ばれ、結合確率を効率的に学習できるようになっている。\n",
        "  - Dilated causal convolutionが入る。\n",
        "- （あ）を用いた際の大きな利点は、単純なConvolution layer と比べて（い）ことである。\n",
        "  - パラメータ数に対する受容野が広いが入る。"
      ]
    },
    {
      "cell_type": "markdown",
      "metadata": {
        "id": "IhQOnnAxBzJt"
      },
      "source": [
        "## 実装演習\n",
        "- 本セクションでは実装演習なし。"
      ]
    },
    {
      "cell_type": "markdown",
      "metadata": {
        "id": "p5rwRY0WBEc1"
      },
      "source": [
        "# Transformer"
      ]
    },
    {
      "cell_type": "markdown",
      "metadata": {
        "id": "wcS1_MfaBze5"
      },
      "source": [
        "## 概要\n",
        "- 自然言語処理において、BERTやXLnet、GPT-2など様々なモデルが近年研究されているが、いずれもTramsformerをモデルとしている。Transformerは自然言語処理の分野だけでなく他分野にも応用され高い性能を発揮している。\n",
        "- Transformerは以下のような特徴がある。\n",
        "  - Seq2seqよりも早く精度が高い。\n",
        "  - RNN、CNNを使わずAttentionのみを使用したEncoder-Decoderモデルで、並列計算も可能になっている。\n",
        "- 関連記事：https://qiita.com/omiita/items/07e69aef6c156d23c538"
      ]
    },
    {
      "cell_type": "markdown",
      "metadata": {
        "id": "gyAvlIK8CA_7"
      },
      "source": [
        "## 確認テスト\n",
        "- 本セクションではなし。"
      ]
    },
    {
      "cell_type": "markdown",
      "metadata": {
        "id": "anBKOOQcBze6"
      },
      "source": [
        "## 実装演習"
      ]
    },
    {
      "cell_type": "code",
      "metadata": {
        "colab": {
          "base_uri": "https://localhost:8080/"
        },
        "id": "MtWKs1f8uNQ8",
        "outputId": "eb1372f0-4373-41fb-ab5f-6a59b57acc5e"
      },
      "source": [
        "! wget https://www.dropbox.com/s/9narw5x4uizmehh/utils.py\n",
        "! mkdir images data\n",
        "\n",
        "# data取得\n",
        "! wget https://www.dropbox.com/s/o4kyc52a8we25wy/dev.en -P data/\n",
        "! wget https://www.dropbox.com/s/kdgskm5hzg6znuc/dev.ja -P data/\n",
        "! wget https://www.dropbox.com/s/gyyx4gohv9v65uh/test.en -P data/\n",
        "! wget https://www.dropbox.com/s/hotxwbgoe2n013k/test.ja -P data/\n",
        "! wget https://www.dropbox.com/s/5lsftkmb20ay9e1/train.en -P data/\n",
        "! wget https://www.dropbox.com/s/ak53qirssci6f1j/train.ja -P data/"
      ],
      "execution_count": 13,
      "outputs": [
        {
          "output_type": "stream",
          "text": [
            "--2021-07-19 12:23:51--  https://www.dropbox.com/s/9narw5x4uizmehh/utils.py\n",
            "Resolving www.dropbox.com (www.dropbox.com)... 162.125.5.18, 2620:100:601d:18::a27d:512\n",
            "Connecting to www.dropbox.com (www.dropbox.com)|162.125.5.18|:443... connected.\n",
            "HTTP request sent, awaiting response... 301 Moved Permanently\n",
            "Location: /s/raw/9narw5x4uizmehh/utils.py [following]\n",
            "--2021-07-19 12:23:51--  https://www.dropbox.com/s/raw/9narw5x4uizmehh/utils.py\n",
            "Reusing existing connection to www.dropbox.com:443.\n",
            "HTTP request sent, awaiting response... 302 Found\n",
            "Location: https://uce004f34883971b06dff8a19565.dl.dropboxusercontent.com/cd/0/inline/BSmoiLXRl0jSAzc2iUi38_LQlhhMvO3SZ47tjT3XC_JCW0cyihYgs4eIggSDs8TduYevU-MxvjGkz1pYnQTe-u290SFx1FRth61wgBIqQIzjnU6bSSiygQacf_cNUb_QvH4taqW9STQqIw5XYoFyuZpG/file# [following]\n",
            "--2021-07-19 12:23:52--  https://uce004f34883971b06dff8a19565.dl.dropboxusercontent.com/cd/0/inline/BSmoiLXRl0jSAzc2iUi38_LQlhhMvO3SZ47tjT3XC_JCW0cyihYgs4eIggSDs8TduYevU-MxvjGkz1pYnQTe-u290SFx1FRth61wgBIqQIzjnU6bSSiygQacf_cNUb_QvH4taqW9STQqIw5XYoFyuZpG/file\n",
            "Resolving uce004f34883971b06dff8a19565.dl.dropboxusercontent.com (uce004f34883971b06dff8a19565.dl.dropboxusercontent.com)... 162.125.5.15, 2620:100:601d:15::a27d:50f\n",
            "Connecting to uce004f34883971b06dff8a19565.dl.dropboxusercontent.com (uce004f34883971b06dff8a19565.dl.dropboxusercontent.com)|162.125.5.15|:443... connected.\n",
            "HTTP request sent, awaiting response... 200 OK\n",
            "Length: 949 [text/plain]\n",
            "Saving to: ‘utils.py’\n",
            "\n",
            "utils.py            100%[===================>]     949  --.-KB/s    in 0s      \n",
            "\n",
            "2021-07-19 12:23:52 (146 MB/s) - ‘utils.py’ saved [949/949]\n",
            "\n",
            "--2021-07-19 12:23:52--  https://www.dropbox.com/s/o4kyc52a8we25wy/dev.en\n",
            "Resolving www.dropbox.com (www.dropbox.com)... 162.125.5.18, 2620:100:601d:18::a27d:512\n",
            "Connecting to www.dropbox.com (www.dropbox.com)|162.125.5.18|:443... connected.\n",
            "HTTP request sent, awaiting response... 301 Moved Permanently\n",
            "Location: /s/raw/o4kyc52a8we25wy/dev.en [following]\n",
            "--2021-07-19 12:23:53--  https://www.dropbox.com/s/raw/o4kyc52a8we25wy/dev.en\n",
            "Reusing existing connection to www.dropbox.com:443.\n",
            "HTTP request sent, awaiting response... 302 Found\n",
            "Location: https://ucd088c0a145e26b1fe4ce69faee.dl.dropboxusercontent.com/cd/0/inline/BSlLU94ZN8I3EzL7AV2rRGpCbGh9qtDS5PAs43Bo8fo_f8TPipTdh4LJYZmNKWf5gMTXj8ThbF7sQ-kDmLPY09llCsgwNDoCKHIRXg37pxQK3P0A1UHvjpKScD-pl-zkIOl_6Hnf8uWikdTOiteLZwfQ/file# [following]\n",
            "--2021-07-19 12:23:53--  https://ucd088c0a145e26b1fe4ce69faee.dl.dropboxusercontent.com/cd/0/inline/BSlLU94ZN8I3EzL7AV2rRGpCbGh9qtDS5PAs43Bo8fo_f8TPipTdh4LJYZmNKWf5gMTXj8ThbF7sQ-kDmLPY09llCsgwNDoCKHIRXg37pxQK3P0A1UHvjpKScD-pl-zkIOl_6Hnf8uWikdTOiteLZwfQ/file\n",
            "Resolving ucd088c0a145e26b1fe4ce69faee.dl.dropboxusercontent.com (ucd088c0a145e26b1fe4ce69faee.dl.dropboxusercontent.com)... 162.125.5.15, 2620:100:601d:15::a27d:50f\n",
            "Connecting to ucd088c0a145e26b1fe4ce69faee.dl.dropboxusercontent.com (ucd088c0a145e26b1fe4ce69faee.dl.dropboxusercontent.com)|162.125.5.15|:443... connected.\n",
            "HTTP request sent, awaiting response... 200 OK\n",
            "Length: 17054 (17K) [text/plain]\n",
            "Saving to: ‘data/dev.en’\n",
            "\n",
            "dev.en              100%[===================>]  16.65K  --.-KB/s    in 0.001s  \n",
            "\n",
            "2021-07-19 12:23:53 (22.1 MB/s) - ‘data/dev.en’ saved [17054/17054]\n",
            "\n",
            "--2021-07-19 12:23:53--  https://www.dropbox.com/s/kdgskm5hzg6znuc/dev.ja\n",
            "Resolving www.dropbox.com (www.dropbox.com)... 162.125.5.18, 2620:100:601d:18::a27d:512\n",
            "Connecting to www.dropbox.com (www.dropbox.com)|162.125.5.18|:443... connected.\n",
            "HTTP request sent, awaiting response... 301 Moved Permanently\n",
            "Location: /s/raw/kdgskm5hzg6znuc/dev.ja [following]\n",
            "--2021-07-19 12:23:54--  https://www.dropbox.com/s/raw/kdgskm5hzg6znuc/dev.ja\n",
            "Reusing existing connection to www.dropbox.com:443.\n",
            "HTTP request sent, awaiting response... 302 Found\n",
            "Location: https://uc62adf0829e49244303a07a4483.dl.dropboxusercontent.com/cd/0/inline/BSnPgwI46PNOxZSAgAsv1Z4MNfU-gWwBWPmlz4UIKwLxsVaqGxjVJUcaMrLUxifiowjrMkfkXRQmoemPjGBjVwbNnauHNk0qibweFIq9tRqbnC_Yp9slHCBI6w7Bn08vyr464OS3vlaifxQjEPiyHx5w/file# [following]\n",
            "--2021-07-19 12:23:54--  https://uc62adf0829e49244303a07a4483.dl.dropboxusercontent.com/cd/0/inline/BSnPgwI46PNOxZSAgAsv1Z4MNfU-gWwBWPmlz4UIKwLxsVaqGxjVJUcaMrLUxifiowjrMkfkXRQmoemPjGBjVwbNnauHNk0qibweFIq9tRqbnC_Yp9slHCBI6w7Bn08vyr464OS3vlaifxQjEPiyHx5w/file\n",
            "Resolving uc62adf0829e49244303a07a4483.dl.dropboxusercontent.com (uc62adf0829e49244303a07a4483.dl.dropboxusercontent.com)... 162.125.5.15, 2620:100:601d:15::a27d:50f\n",
            "Connecting to uc62adf0829e49244303a07a4483.dl.dropboxusercontent.com (uc62adf0829e49244303a07a4483.dl.dropboxusercontent.com)|162.125.5.15|:443... connected.\n",
            "HTTP request sent, awaiting response... 200 OK\n",
            "Length: 27781 (27K) [text/plain]\n",
            "Saving to: ‘data/dev.ja’\n",
            "\n",
            "dev.ja              100%[===================>]  27.13K  --.-KB/s    in 0.02s   \n",
            "\n",
            "2021-07-19 12:23:54 (1.39 MB/s) - ‘data/dev.ja’ saved [27781/27781]\n",
            "\n",
            "--2021-07-19 12:23:54--  https://www.dropbox.com/s/gyyx4gohv9v65uh/test.en\n",
            "Resolving www.dropbox.com (www.dropbox.com)... 162.125.5.18, 2620:100:601d:18::a27d:512\n",
            "Connecting to www.dropbox.com (www.dropbox.com)|162.125.5.18|:443... connected.\n",
            "HTTP request sent, awaiting response... 301 Moved Permanently\n",
            "Location: /s/raw/gyyx4gohv9v65uh/test.en [following]\n",
            "--2021-07-19 12:23:55--  https://www.dropbox.com/s/raw/gyyx4gohv9v65uh/test.en\n",
            "Reusing existing connection to www.dropbox.com:443.\n",
            "HTTP request sent, awaiting response... 302 Found\n",
            "Location: https://uc8ad819810eb969029ade204a83.dl.dropboxusercontent.com/cd/0/inline/BSlorZ95L5zrwnRnVktTU34z48b9p0lqc48IAV4iGCY-3bhd0cBBCdLYfHDcjQPmA8Ktcgnxn4Eqi1p9jceCNa72sgGiwGcgMNizWzdqdHZ00Da7Ea5FP85rA7QTvWB4MLLh7hqacnkUt6f4u4CXaJC1/file# [following]\n",
            "--2021-07-19 12:23:55--  https://uc8ad819810eb969029ade204a83.dl.dropboxusercontent.com/cd/0/inline/BSlorZ95L5zrwnRnVktTU34z48b9p0lqc48IAV4iGCY-3bhd0cBBCdLYfHDcjQPmA8Ktcgnxn4Eqi1p9jceCNa72sgGiwGcgMNizWzdqdHZ00Da7Ea5FP85rA7QTvWB4MLLh7hqacnkUt6f4u4CXaJC1/file\n",
            "Resolving uc8ad819810eb969029ade204a83.dl.dropboxusercontent.com (uc8ad819810eb969029ade204a83.dl.dropboxusercontent.com)... 162.125.5.15, 2620:100:601d:15::a27d:50f\n",
            "Connecting to uc8ad819810eb969029ade204a83.dl.dropboxusercontent.com (uc8ad819810eb969029ade204a83.dl.dropboxusercontent.com)|162.125.5.15|:443... connected.\n",
            "HTTP request sent, awaiting response... 200 OK\n",
            "Length: 17301 (17K) [text/plain]\n",
            "Saving to: ‘data/test.en’\n",
            "\n",
            "test.en             100%[===================>]  16.90K  --.-KB/s    in 0.001s  \n",
            "\n",
            "2021-07-19 12:23:55 (21.5 MB/s) - ‘data/test.en’ saved [17301/17301]\n",
            "\n",
            "--2021-07-19 12:23:55--  https://www.dropbox.com/s/hotxwbgoe2n013k/test.ja\n",
            "Resolving www.dropbox.com (www.dropbox.com)... 162.125.5.18, 2620:100:601d:18::a27d:512\n",
            "Connecting to www.dropbox.com (www.dropbox.com)|162.125.5.18|:443... connected.\n",
            "HTTP request sent, awaiting response... 301 Moved Permanently\n",
            "Location: /s/raw/hotxwbgoe2n013k/test.ja [following]\n",
            "--2021-07-19 12:23:56--  https://www.dropbox.com/s/raw/hotxwbgoe2n013k/test.ja\n",
            "Reusing existing connection to www.dropbox.com:443.\n",
            "HTTP request sent, awaiting response... 302 Found\n",
            "Location: https://uc82c0b04f16a2191a12589302c5.dl.dropboxusercontent.com/cd/0/inline/BSkqrmvokDXLpDbNjI8mVuSpiYnHBBw0QIJTipuNLTeTBD7YFcaZMFy0tFiEpkbe74AmBQKyvo03cp4cMcHxMrbpqFs-JpipEsxLXi7uXVxXzAB7GgUk1HE287rXBpz9rROVv3CaB2r3frRTMiAVsxId/file# [following]\n",
            "--2021-07-19 12:23:56--  https://uc82c0b04f16a2191a12589302c5.dl.dropboxusercontent.com/cd/0/inline/BSkqrmvokDXLpDbNjI8mVuSpiYnHBBw0QIJTipuNLTeTBD7YFcaZMFy0tFiEpkbe74AmBQKyvo03cp4cMcHxMrbpqFs-JpipEsxLXi7uXVxXzAB7GgUk1HE287rXBpz9rROVv3CaB2r3frRTMiAVsxId/file\n",
            "Resolving uc82c0b04f16a2191a12589302c5.dl.dropboxusercontent.com (uc82c0b04f16a2191a12589302c5.dl.dropboxusercontent.com)... 162.125.5.15, 2620:100:601d:15::a27d:50f\n",
            "Connecting to uc82c0b04f16a2191a12589302c5.dl.dropboxusercontent.com (uc82c0b04f16a2191a12589302c5.dl.dropboxusercontent.com)|162.125.5.15|:443... connected.\n",
            "HTTP request sent, awaiting response... 200 OK\n",
            "Length: 27793 (27K) [text/plain]\n",
            "Saving to: ‘data/test.ja’\n",
            "\n",
            "test.ja             100%[===================>]  27.14K  --.-KB/s    in 0.02s   \n",
            "\n",
            "2021-07-19 12:23:56 (1.59 MB/s) - ‘data/test.ja’ saved [27793/27793]\n",
            "\n",
            "--2021-07-19 12:23:56--  https://www.dropbox.com/s/5lsftkmb20ay9e1/train.en\n",
            "Resolving www.dropbox.com (www.dropbox.com)... 162.125.5.18, 2620:100:601d:18::a27d:512\n",
            "Connecting to www.dropbox.com (www.dropbox.com)|162.125.5.18|:443... connected.\n",
            "HTTP request sent, awaiting response... 301 Moved Permanently\n",
            "Location: /s/raw/5lsftkmb20ay9e1/train.en [following]\n",
            "--2021-07-19 12:23:57--  https://www.dropbox.com/s/raw/5lsftkmb20ay9e1/train.en\n",
            "Reusing existing connection to www.dropbox.com:443.\n",
            "HTTP request sent, awaiting response... 302 Found\n",
            "Location: https://uc4f0f2822a8df93f1fc60d9b363.dl.dropboxusercontent.com/cd/0/inline/BSkKoZYXylB8fIx5L3wPVzQ9XYSpwMMKrTm8OqIr_EiuTkcp-K-OQ9QZJnJ5kP_00NSy6SvamXALYKG1Z_NLgWyHwdbaY8QtIWjDgpRyi1IYSq2g0MN4OylqU4M27oxJ4315CU1GevZ1YoPXetTsxiKH/file# [following]\n",
            "--2021-07-19 12:23:57--  https://uc4f0f2822a8df93f1fc60d9b363.dl.dropboxusercontent.com/cd/0/inline/BSkKoZYXylB8fIx5L3wPVzQ9XYSpwMMKrTm8OqIr_EiuTkcp-K-OQ9QZJnJ5kP_00NSy6SvamXALYKG1Z_NLgWyHwdbaY8QtIWjDgpRyi1IYSq2g0MN4OylqU4M27oxJ4315CU1GevZ1YoPXetTsxiKH/file\n",
            "Resolving uc4f0f2822a8df93f1fc60d9b363.dl.dropboxusercontent.com (uc4f0f2822a8df93f1fc60d9b363.dl.dropboxusercontent.com)... 162.125.5.15, 2620:100:601d:15::a27d:50f\n",
            "Connecting to uc4f0f2822a8df93f1fc60d9b363.dl.dropboxusercontent.com (uc4f0f2822a8df93f1fc60d9b363.dl.dropboxusercontent.com)|162.125.5.15|:443... connected.\n",
            "HTTP request sent, awaiting response... 200 OK\n",
            "Length: 1701356 (1.6M) [text/plain]\n",
            "Saving to: ‘data/train.en’\n",
            "\n",
            "train.en            100%[===================>]   1.62M  --.-KB/s    in 0.1s    \n",
            "\n",
            "2021-07-19 12:23:57 (14.3 MB/s) - ‘data/train.en’ saved [1701356/1701356]\n",
            "\n",
            "--2021-07-19 12:23:57--  https://www.dropbox.com/s/ak53qirssci6f1j/train.ja\n",
            "Resolving www.dropbox.com (www.dropbox.com)... 162.125.5.18, 2620:100:601d:18::a27d:512\n",
            "Connecting to www.dropbox.com (www.dropbox.com)|162.125.5.18|:443... connected.\n",
            "HTTP request sent, awaiting response... 301 Moved Permanently\n",
            "Location: /s/raw/ak53qirssci6f1j/train.ja [following]\n",
            "--2021-07-19 12:23:58--  https://www.dropbox.com/s/raw/ak53qirssci6f1j/train.ja\n",
            "Reusing existing connection to www.dropbox.com:443.\n",
            "HTTP request sent, awaiting response... 302 Found\n",
            "Location: https://uc3532cb8cc02eeb36e6d6d8ecd8.dl.dropboxusercontent.com/cd/0/inline/BSl_HJd4EAY2mnExPYN5VcG7_d-5RsP1DATdWtoO-Kdr-exRf3K0g_2DOYnU_XfBAtWfI92U_RrXnfj34tBrKsnwzOv49dxq2SqACD0_hfzAFGpJweORkVGCq1SAKbd8Dy4S3BArbHw6wCtLEGmx4PYC/file# [following]\n",
            "--2021-07-19 12:23:58--  https://uc3532cb8cc02eeb36e6d6d8ecd8.dl.dropboxusercontent.com/cd/0/inline/BSl_HJd4EAY2mnExPYN5VcG7_d-5RsP1DATdWtoO-Kdr-exRf3K0g_2DOYnU_XfBAtWfI92U_RrXnfj34tBrKsnwzOv49dxq2SqACD0_hfzAFGpJweORkVGCq1SAKbd8Dy4S3BArbHw6wCtLEGmx4PYC/file\n",
            "Resolving uc3532cb8cc02eeb36e6d6d8ecd8.dl.dropboxusercontent.com (uc3532cb8cc02eeb36e6d6d8ecd8.dl.dropboxusercontent.com)... 162.125.5.15, 2620:100:601d:15::a27d:50f\n",
            "Connecting to uc3532cb8cc02eeb36e6d6d8ecd8.dl.dropboxusercontent.com (uc3532cb8cc02eeb36e6d6d8ecd8.dl.dropboxusercontent.com)|162.125.5.15|:443... connected.\n",
            "HTTP request sent, awaiting response... 200 OK\n",
            "Length: 2784447 (2.7M) [text/plain]\n",
            "Saving to: ‘data/train.ja’\n",
            "\n",
            "train.ja            100%[===================>]   2.66M  --.-KB/s    in 0.1s    \n",
            "\n",
            "2021-07-19 12:23:58 (20.6 MB/s) - ‘data/train.ja’ saved [2784447/2784447]\n",
            "\n"
          ],
          "name": "stdout"
        }
      ]
    },
    {
      "cell_type": "code",
      "metadata": {
        "id": "B8T7vcMNuROW"
      },
      "source": [
        "import time\n",
        "import numpy as np\n",
        "from sklearn.utils import shuffle\n",
        "from sklearn.model_selection import train_test_split\n",
        "import matplotlib\n",
        "import matplotlib.pyplot as plt\n",
        "import seaborn as sns\n",
        "%matplotlib inline\n",
        "\n",
        "from nltk import bleu_score\n",
        "\n",
        "import torch\n",
        "import torch.nn as nn\n",
        "import torch.optim as optim\n",
        "import torch.nn.functional as F\n",
        "\n",
        "from utils import Vocab\n",
        "\n",
        "device = torch.device(\"cuda\" if torch.cuda.is_available() else \"cpu\")\n",
        "\n",
        "torch.manual_seed(1)\n",
        "random_state = 42"
      ],
      "execution_count": 14,
      "outputs": []
    },
    {
      "cell_type": "code",
      "metadata": {
        "colab": {
          "base_uri": "https://localhost:8080/"
        },
        "id": "b48DOrNduWlD",
        "outputId": "c2530c37-fa04-46f2-ce6c-aa6e74c057c6"
      },
      "source": [
        "print(torch.__version__)"
      ],
      "execution_count": 15,
      "outputs": [
        {
          "output_type": "stream",
          "text": [
            "1.9.0+cu102\n"
          ],
          "name": "stdout"
        }
      ]
    },
    {
      "cell_type": "code",
      "metadata": {
        "id": "ELaXci1nuZIH"
      },
      "source": [
        "PAD = 0\n",
        "UNK = 1\n",
        "BOS = 2\n",
        "EOS = 3\n",
        "\n",
        "PAD_TOKEN = '<PAD>'\n",
        "UNK_TOKEN = '<UNK>'\n",
        "BOS_TOKEN = '<S>'\n",
        "EOS_TOKEN = '</S>'"
      ],
      "execution_count": 16,
      "outputs": []
    },
    {
      "cell_type": "code",
      "metadata": {
        "colab": {
          "base_uri": "https://localhost:8080/"
        },
        "id": "PegTQMggua9R",
        "outputId": "d3172315-7f54-4998-ec92-b57e302e039b"
      },
      "source": [
        "def load_data(file_path):\n",
        "    \"\"\"\n",
        "    テキストファイルからデータを読み込む\n",
        "    :param file_path: str, テキストファイルのパス\n",
        "    :return data: list, 文章（単語のリスト）のリスト\n",
        "    \"\"\"\n",
        "    data = []\n",
        "    for line in open(file_path, encoding='utf-8'):\n",
        "        words = line.strip().split()  # スペースで単語を分割\n",
        "        data.append(words)\n",
        "    return data\n",
        "\n",
        "train_X = load_data('./data/train.en')\n",
        "train_Y = load_data('./data/train.ja')\n",
        "\n",
        "# 訓練データと検証データに分割\n",
        "train_X, valid_X, train_Y, valid_Y = train_test_split(train_X, train_Y, test_size=0.2, random_state=random_state)\n",
        "\n",
        "# データセットの中身を確認\n",
        "print('train_X:', train_X[:5])\n",
        "print('train_Y:', train_Y[:5])"
      ],
      "execution_count": 17,
      "outputs": [
        {
          "output_type": "stream",
          "text": [
            "train_X: [['where', 'shall', 'we', 'eat', 'tonight', '?'], ['i', 'made', 'a', 'big', 'mistake', 'in', 'choosing', 'my', 'wife', '.'], ['i', \"'ll\", 'have', 'to', 'think', 'about', 'it', '.'], ['it', 'is', 'called', 'a', 'lily', '.'], ['could', 'you', 'lend', 'me', 'some', 'money', 'until', 'this', 'weekend', '?']]\n",
            "train_Y: [['今夜', 'は', 'どこ', 'で', '食事', 'を', 'し', 'よ', 'う', 'か', '。'], ['僕', 'は', '妻', 'を', '選', 'ぶ', 'の', 'に', '大変', 'な', '間違い', 'を', 'し', 'た', '。'], ['考え', 'と', 'く', 'よ', '。'], ['ｌｉｌｙ', 'と', '呼', 'ば', 'れ', 'て', 'い', 'ま', 'す', '。'], ['今週末', 'まで', 'いくら', 'か', '金', 'を', '貸', 'し', 'て', 'くれ', 'ま', 'せ', 'ん', 'か', '。']]\n"
          ],
          "name": "stdout"
        }
      ]
    },
    {
      "cell_type": "code",
      "metadata": {
        "id": "GemaDNjcuijZ"
      },
      "source": [
        "MIN_COUNT = 2  # 語彙に含める単語の最低出現回数\n",
        "\n",
        "word2id = {\n",
        "    PAD_TOKEN: PAD,\n",
        "    BOS_TOKEN: BOS,\n",
        "    EOS_TOKEN: EOS,\n",
        "    UNK_TOKEN: UNK,\n",
        "    }\n",
        "\n",
        "vocab_X = Vocab(word2id=word2id)\n",
        "vocab_Y = Vocab(word2id=word2id)\n",
        "vocab_X.build_vocab(train_X, min_count=MIN_COUNT)\n",
        "vocab_Y.build_vocab(train_Y, min_count=MIN_COUNT)\n",
        "\n",
        "vocab_size_X = len(vocab_X.id2word)\n",
        "vocab_size_Y = len(vocab_Y.id2word)"
      ],
      "execution_count": 18,
      "outputs": []
    },
    {
      "cell_type": "code",
      "metadata": {
        "id": "4pM5xqzfukts"
      },
      "source": [
        "def sentence_to_ids(vocab, sentence):\n",
        "    \"\"\"\n",
        "    単語のリストをインデックスのリストに変換する\n",
        "    :param vocab: Vocabのインスタンス\n",
        "    :param sentence: list of str\n",
        "    :return indices: list of int\n",
        "    \"\"\"\n",
        "    ids = [vocab.word2id.get(word, UNK) for word in sentence]\n",
        "    ids = [BOS] + ids + [EOS]  # EOSを末尾に加える\n",
        "    return ids"
      ],
      "execution_count": 19,
      "outputs": []
    },
    {
      "cell_type": "code",
      "metadata": {
        "id": "R-WvFeAMutlL"
      },
      "source": [
        "train_X = [sentence_to_ids(vocab_X, sentence) for sentence in train_X]\n",
        "train_Y = [sentence_to_ids(vocab_Y, sentence) for sentence in train_Y]\n",
        "valid_X = [sentence_to_ids(vocab_X, sentence) for sentence in valid_X]\n",
        "valid_Y = [sentence_to_ids(vocab_Y, sentence) for sentence in valid_Y]"
      ],
      "execution_count": 20,
      "outputs": []
    },
    {
      "cell_type": "code",
      "metadata": {
        "id": "doiVUACDuuly"
      },
      "source": [
        "class DataLoader(object):\n",
        "    def __init__(self, src_insts, tgt_insts, batch_size, shuffle=True):\n",
        "        \"\"\"\n",
        "        :param src_insts: list, 入力言語の文章（単語IDのリスト）のリスト\n",
        "        :param tgt_insts: list, 出力言語の文章（単語IDのリスト）のリスト\n",
        "        :param batch_size: int, バッチサイズ\n",
        "        :param shuffle: bool, サンプルの順番をシャッフルするか否か\n",
        "        \"\"\"\n",
        "        self.data = list(zip(src_insts, tgt_insts))\n",
        "\n",
        "        self.batch_size = batch_size\n",
        "        self.shuffle = shuffle\n",
        "        self.start_index = 0\n",
        "        \n",
        "        self.reset()\n",
        "    \n",
        "    def reset(self):\n",
        "        if self.shuffle:\n",
        "            self.data = shuffle(self.data, random_state=random_state)\n",
        "        self.start_index = 0\n",
        "    \n",
        "    def __iter__(self):\n",
        "        return self\n",
        "    \n",
        "    def __next__(self):\n",
        "\n",
        "        def preprocess_seqs(seqs):\n",
        "            # パディング\n",
        "            max_length = max([len(s) for s in seqs])\n",
        "            data = [s + [PAD] * (max_length - len(s)) for s in seqs]\n",
        "            # 単語の位置を表現するベクトルを作成\n",
        "            positions = [[pos+1 if w != PAD else 0 for pos, w in enumerate(seq)] for seq in data]\n",
        "            # テンソルに変換\n",
        "            data_tensor = torch.tensor(data, dtype=torch.long, device=device)\n",
        "            position_tensor = torch.tensor(positions, dtype=torch.long, device=device)\n",
        "            return data_tensor, position_tensor            \n",
        "\n",
        "        # ポインタが最後まで到達したら初期化する\n",
        "        if self.start_index >= len(self.data):\n",
        "            self.reset()\n",
        "            raise StopIteration()\n",
        "\n",
        "        # バッチを取得して前処理\n",
        "        src_seqs, tgt_seqs = zip(*self.data[self.start_index:self.start_index+self.batch_size])\n",
        "        src_data, src_pos = preprocess_seqs(src_seqs)\n",
        "        tgt_data, tgt_pos = preprocess_seqs(tgt_seqs)\n",
        "\n",
        "        # ポインタを更新する\n",
        "        self.start_index += self.batch_size\n",
        "\n",
        "        return (src_data, src_pos), (tgt_data, tgt_pos)"
      ],
      "execution_count": 21,
      "outputs": []
    },
    {
      "cell_type": "code",
      "metadata": {
        "colab": {
          "base_uri": "https://localhost:8080/",
          "height": 496
        },
        "id": "WwFZhH_iuxQo",
        "outputId": "0dfb023b-db15-472f-fc64-feb500f36086"
      },
      "source": [
        "def position_encoding_init(n_position, d_pos_vec):\n",
        "    \"\"\"\n",
        "    Positional Encodingのための行列の初期化を行う\n",
        "    :param n_position: int, 系列長\n",
        "    :param d_pos_vec: int, 隠れ層の次元数\n",
        "    :return torch.tensor, size=(n_position, d_pos_vec)\n",
        "    \"\"\"\n",
        "    # PADがある単語の位置はpos=0にしておき、position_encも0にする\n",
        "    position_enc = np.array([\n",
        "        [pos / np.power(10000, 2 * (j // 2) / d_pos_vec) for j in range(d_pos_vec)]\n",
        "        if pos != 0 else np.zeros(d_pos_vec) for pos in range(n_position)])\n",
        "    position_enc[1:, 0::2] = np.sin(position_enc[1:, 0::2])  # dim 2i\n",
        "    position_enc[1:, 1::2] = np.cos(position_enc[1:, 1::2])  # dim 2i+1\n",
        "    return torch.tensor(position_enc, dtype=torch.float)\n",
        "  \n",
        "pe = position_encoding_init(50, 256).numpy()\n",
        "plt.figure(figsize=(16,8))\n",
        "sns.heatmap(pe, cmap='Blues')\n",
        "plt.show()"
      ],
      "execution_count": 22,
      "outputs": [
        {
          "output_type": "display_data",
          "data": {
            "image/png": "[encoded data removed]",
            "text/plain": [
              "<Figure size 1152x576 with 2 Axes>"
            ]
          },
          "metadata": {
            "tags": [],
            "needs_background": "light"
          }
        }
      ]
    },
    {
      "cell_type": "code",
      "metadata": {
        "colab": {
          "base_uri": "https://localhost:8080/"
        },
        "id": "ncqSWD0Ju5xK",
        "outputId": "a5b7fc62-6892-454e-d813-45c2a8351276"
      },
      "source": [
        "class ScaledDotProductAttention(nn.Module):\n",
        "    \n",
        "    def __init__(self, d_model, attn_dropout=0.1):\n",
        "        \"\"\"\n",
        "        :param d_model: int, 隠れ層の次元数\n",
        "        :param attn_dropout: float, ドロップアウト率\n",
        "        \"\"\"\n",
        "        super(ScaledDotProductAttention, self).__init__()\n",
        "        self.temper = np.power(d_model, 0.5)  # スケーリング因子\n",
        "        self.dropout = nn.Dropout(attn_dropout)\n",
        "        self.softmax = nn.Softmax(dim=-1)\n",
        "\n",
        "    def forward(self, q, k, v, attn_mask):\n",
        "        \"\"\"\n",
        "        :param q: torch.tensor, queryベクトル, \n",
        "            size=(n_head*batch_size, len_q, d_model/n_head)\n",
        "        :param k: torch.tensor, key, \n",
        "            size=(n_head*batch_size, len_k, d_model/n_head)\n",
        "        :param v: torch.tensor, valueベクトル, \n",
        "            size=(n_head*batch_size, len_v, d_model/n_head)\n",
        "        :param attn_mask: torch.tensor, Attentionに適用するマスク, \n",
        "            size=(n_head*batch_size, len_q, len_k)\n",
        "        :return output: 出力ベクトル, \n",
        "            size=(n_head*batch_size, len_q, d_model/n_head)\n",
        "        :return attn: Attention\n",
        "            size=(n_head*batch_size, len_q, len_k)\n",
        "        \"\"\"\n",
        "        # QとKの内積でAttentionの重みを求め、スケーリングする\n",
        "        attn = torch.bmm(q, k.transpose(1, 2)) / self.temper  # (n_head*batch_size, len_q, len_k)\n",
        "        # Attentionをかけたくない部分がある場合は、その部分を負の無限大に飛ばしてSoftmaxの値が0になるようにする\n",
        "        attn.data.masked_fill_(attn_mask, -float('inf'))\n",
        "        \n",
        "        attn = self.softmax(attn)\n",
        "        attn = self.dropout(attn)\n",
        "        output = torch.bmm(attn, v)\n",
        "\n",
        "        return output, attn\n",
        "class MultiHeadAttention(nn.Module):\n",
        "    def __init__(self, n_head, d_model, d_k, d_v, dropout=0.1):\n",
        "        \"\"\"\n",
        "        :param n_head: int, ヘッド数\n",
        "        :param d_model: int, 隠れ層の次元数\n",
        "        :param d_k: int, keyベクトルの次元数\n",
        "        :param d_v: int, valueベクトルの次元数\n",
        "        :param dropout: float, ドロップアウト率\n",
        "        \"\"\"\n",
        "        super(MultiHeadAttention, self).__init__()\n",
        "\n",
        "        self.n_head = n_head\n",
        "        self.d_k = d_k\n",
        "        self.d_v = d_v\n",
        "\n",
        "        # 各ヘッドごとに異なる重みで線形変換を行うための重み\n",
        "        # nn.Parameterを使うことで、Moduleのパラメータとして登録できる. TFでは更新が必要な変数はtf.Variableでラップするのでわかりやすい\n",
        "        self.w_qs = nn.Parameter(torch.empty([n_head, d_model, d_k], dtype=torch.float))\n",
        "        self.w_ks = nn.Parameter(torch.empty([n_head, d_model, d_k], dtype=torch.float))\n",
        "        self.w_vs = nn.Parameter(torch.empty([n_head, d_model, d_v], dtype=torch.float))\n",
        "        # nn.init.xavier_normal_で重みの値を初期化\n",
        "        nn.init.xavier_normal_(self.w_qs)\n",
        "        nn.init.xavier_normal_(self.w_ks)\n",
        "        nn.init.xavier_normal_(self.w_vs)\n",
        "\n",
        "        self.attention = ScaledDotProductAttention(d_model)\n",
        "        self.layer_norm = nn.LayerNorm(d_model) # 各層においてバイアスを除く活性化関数への入力を平均０、分散１に正則化\n",
        "        self.proj = nn.Linear(n_head*d_v, d_model)  # 複数ヘッド分のAttentionの結果を元のサイズに写像するための線形層\n",
        "        # nn.init.xavier_normal_で重みの値を初期化\n",
        "        nn.init.xavier_normal_(self.proj.weight)\n",
        "        \n",
        "        self.dropout = nn.Dropout(dropout)\n",
        "\n",
        "\n",
        "    def forward(self, q, k, v, attn_mask=None):\n",
        "        \"\"\"\n",
        "        :param q: torch.tensor, queryベクトル, \n",
        "            size=(batch_size, len_q, d_model)\n",
        "        :param k: torch.tensor, key, \n",
        "            size=(batch_size, len_k, d_model)\n",
        "        :param v: torch.tensor, valueベクトル, \n",
        "            size=(batch_size, len_v, d_model)\n",
        "        :param attn_mask: torch.tensor, Attentionに適用するマスク, \n",
        "            size=(batch_size, len_q, len_k)\n",
        "        :return outputs: 出力ベクトル, \n",
        "            size=(batch_size, len_q, d_model)\n",
        "        :return attns: Attention\n",
        "            size=(n_head*batch_size, len_q, len_k)\n",
        "            \n",
        "        \"\"\"\n",
        "        d_k, d_v = self.d_k, self.d_v\n",
        "        n_head = self.n_head\n",
        "\n",
        "        # residual connectionのための入力 出力に入力をそのまま加算する\n",
        "        residual = q\n",
        "\n",
        "        batch_size, len_q, d_model = q.size()\n",
        "        batch_size, len_k, d_model = k.size()\n",
        "        batch_size, len_v, d_model = v.size()\n",
        "\n",
        "        # 複数ヘッド化\n",
        "        # torch.repeat または .repeatで指定したdimに沿って同じテンソルを作成\n",
        "        q_s = q.repeat(n_head, 1, 1) # (n_head*batch_size, len_q, d_model)\n",
        "        k_s = k.repeat(n_head, 1, 1) # (n_head*batch_size, len_k, d_model)\n",
        "        v_s = v.repeat(n_head, 1, 1) # (n_head*batch_size, len_v, d_model)\n",
        "        # ヘッドごとに並列計算させるために、n_headをdim=0に、batch_sizeをdim=1に寄せる\n",
        "        q_s = q_s.view(n_head, -1, d_model) # (n_head, batch_size*len_q, d_model)\n",
        "        k_s = k_s.view(n_head, -1, d_model) # (n_head, batch_size*len_k, d_model)\n",
        "        v_s = v_s.view(n_head, -1, d_model) # (n_head, batch_size*len_v, d_model)\n",
        "\n",
        "        # 各ヘッドで線形変換を並列計算(p16左側`Linear`)\n",
        "        q_s = torch.bmm(q_s, self.w_qs)  # (n_head, batch_size*len_q, d_k)\n",
        "        k_s = torch.bmm(k_s, self.w_ks)  # (n_head, batch_size*len_k, d_k)\n",
        "        v_s = torch.bmm(v_s, self.w_vs)  # (n_head, batch_size*len_v, d_v)\n",
        "        # Attentionは各バッチ各ヘッドごとに計算させるためにbatch_sizeをdim=0に寄せる\n",
        "        q_s = q_s.view(-1, len_q, d_k)   # (n_head*batch_size, len_q, d_k)\n",
        "        k_s = k_s.view(-1, len_k, d_k)   # (n_head*batch_size, len_k, d_k)\n",
        "        v_s = v_s.view(-1, len_v, d_v)   # (n_head*batch_size, len_v, d_v)\n",
        "\n",
        "        # Attentionを計算(p16.左側`Scaled Dot-Product Attention * h`)\n",
        "        outputs, attns = self.attention(q_s, k_s, v_s, attn_mask=attn_mask.repeat(n_head, 1, 1))\n",
        "\n",
        "        # 各ヘッドの結果を連結(p16左側`Concat`)\n",
        "        # torch.splitでbatch_sizeごとのn_head個のテンソルに分割\n",
        "        outputs = torch.split(outputs, batch_size, dim=0)  # (batch_size, len_q, d_model) * n_head\n",
        "        # dim=-1で連結\n",
        "        outputs = torch.cat(outputs, dim=-1)  # (batch_size, len_q, d_model*n_head)\n",
        "\n",
        "        # residual connectionのために元の大きさに写像(p16左側`Linear`)\n",
        "        outputs = self.proj(outputs)  # (batch_size, len_q, d_model)\n",
        "        outputs = self.dropout(outputs)\n",
        "        outputs = self.layer_norm(outputs + residual)\n",
        "\n",
        "        return outputs, attns\n",
        "\n",
        "class PositionwiseFeedForward(nn.Module):\n",
        "    \"\"\"\n",
        "    :param d_hid: int, 隠れ層1層目の次元数\n",
        "    :param d_inner_hid: int, 隠れ層2層目の次元数\n",
        "    :param dropout: float, ドロップアウト率\n",
        "    \"\"\"\n",
        "    def __init__(self, d_hid, d_inner_hid, dropout=0.1):\n",
        "        super(PositionwiseFeedForward, self).__init__()\n",
        "        # window size 1のconv層を定義することでPosition wiseな全結合層を実現する.\n",
        "        self.w_1 = nn.Conv1d(d_hid, d_inner_hid, 1)\n",
        "        self.w_2 = nn.Conv1d(d_inner_hid, d_hid, 1)\n",
        "        self.layer_norm = nn.LayerNorm(d_hid)\n",
        "        self.dropout = nn.Dropout(dropout)\n",
        "        self.relu = nn.ReLU()\n",
        "\n",
        "    def forward(self, x):\n",
        "        \"\"\"\n",
        "        :param x: torch.tensor,\n",
        "            size=(batch_size, max_length, d_hid)\n",
        "        :return: torch.tensor,\n",
        "            size=(batch_size, max_length, d_hid) \n",
        "        \"\"\"\n",
        "        residual = x\n",
        "        output = self.relu(self.w_1(x.transpose(1, 2)))\n",
        "        output = self.w_2(output).transpose(2, 1)\n",
        "        output = self.dropout(output)\n",
        "        return self.layer_norm(output + residual)\n",
        "  \n",
        "def get_attn_padding_mask(seq_q, seq_k):\n",
        "    \"\"\"\n",
        "    keyのPADに対するattentionを0にするためのマスクを作成する\n",
        "    :param seq_q: tensor, queryの系列, size=(batch_size, len_q)\n",
        "    :param seq_k: tensor, keyの系列, size=(batch_size, len_k)\n",
        "    :return pad_attn_mask: tensor, size=(batch_size, len_q, len_k)\n",
        "    \"\"\"\n",
        "    batch_size, len_q = seq_q.size()\n",
        "    batch_size, len_k = seq_k.size()\n",
        "    pad_attn_mask = seq_k.data.eq(PAD).unsqueeze(1)   # (N, 1, len_k) PAD以外のidを全て0にする\n",
        "    pad_attn_mask = pad_attn_mask.expand(batch_size, len_q, len_k) # (N, len_q, len_k)\n",
        "    return pad_attn_mask\n",
        "\n",
        "_seq_q = torch.tensor([[1, 2, 3]])\n",
        "_seq_k = torch.tensor([[4, 5, 6, 7, PAD]])\n",
        "_mask = get_attn_padding_mask(_seq_q, _seq_k)  # 行がquery、列がkeyに対応し、key側がPAD(=0)の時刻だけ1で他が0の行列ができる\n",
        "print('query:\\n', _seq_q)\n",
        "print('key:\\n', _seq_k)\n",
        "print('mask:\\n', _mask)\n",
        "\n",
        "def get_attn_subsequent_mask(seq):\n",
        "    \"\"\"\n",
        "    未来の情報に対するattentionを0にするためのマスクを作成する\n",
        "    :param seq: tensor, size=(batch_size, length)\n",
        "    :return subsequent_mask: tensor, size=(batch_size, length, length)\n",
        "    \"\"\"\n",
        "    attn_shape = (seq.size(1), seq.size(1))\n",
        "    # 上三角行列(diagonal=1: 対角線より上が1で下が0)\n",
        "    subsequent_mask = torch.triu(torch.ones(attn_shape, dtype=torch.uint8, device=device), diagonal=1)\n",
        "    subsequent_mask = subsequent_mask.repeat(seq.size(0), 1, 1)\n",
        "    return subsequent_mask\n",
        "\n",
        "_seq = torch.tensor([[1,2,3,4]])\n",
        "_mask = get_attn_subsequent_mask(_seq)  # 行がquery、列がkeyに対応し、queryより未来のkeyの値が1で他は0の行列ができいる\n",
        "print('seq:\\n', _seq)\n",
        "print('mask:\\n', _mask)"
      ],
      "execution_count": 23,
      "outputs": [
        {
          "output_type": "stream",
          "text": [
            "query:\n",
            " tensor([[1, 2, 3]])\n",
            "key:\n",
            " tensor([[4, 5, 6, 7, 0]])\n",
            "mask:\n",
            " tensor([[[False, False, False, False,  True],\n",
            "         [False, False, False, False,  True],\n",
            "         [False, False, False, False,  True]]])\n",
            "seq:\n",
            " tensor([[1, 2, 3, 4]])\n",
            "mask:\n",
            " tensor([[[0, 1, 1, 1],\n",
            "         [0, 0, 1, 1],\n",
            "         [0, 0, 0, 1],\n",
            "         [0, 0, 0, 0]]], dtype=torch.uint8)\n"
          ],
          "name": "stdout"
        }
      ]
    },
    {
      "cell_type": "code",
      "metadata": {
        "id": "mLKZSUFavP-B"
      },
      "source": [
        "class EncoderLayer(nn.Module):\n",
        "    \"\"\"Encoderのブロックのクラス\"\"\"\n",
        "    def __init__(self, d_model, d_inner_hid, n_head, d_k, d_v, dropout=0.1):\n",
        "        \"\"\"\n",
        "        :param d_model: int, 隠れ層の次元数\n",
        "        :param d_inner_hid: int, Position Wise Feed Forward Networkの隠れ層2層目の次元数\n",
        "        :param n_head: int,　ヘッド数\n",
        "        :param d_k: int, keyベクトルの次元数\n",
        "        :param d_v: int, valueベクトルの次元数\n",
        "        :param dropout: float, ドロップアウト率\n",
        "        \"\"\"\n",
        "        super(EncoderLayer, self).__init__()\n",
        "        # Encoder内のSelf-Attention\n",
        "        self.slf_attn = MultiHeadAttention(\n",
        "            n_head, d_model, d_k, d_v, dropout=dropout)\n",
        "        # Postionwise FFN\n",
        "        self.pos_ffn = PositionwiseFeedForward(d_model, d_inner_hid, dropout=dropout)\n",
        "\n",
        "    def forward(self, enc_input, slf_attn_mask=None):\n",
        "        \"\"\"\n",
        "        :param enc_input: tensor, Encoderの入力, \n",
        "            size=(batch_size, max_length, d_model)\n",
        "        :param slf_attn_mask: tensor, Self Attentionの行列にかけるマスク, \n",
        "            size=(batch_size, len_q, len_k)\n",
        "        :return enc_output: tensor, Encoderの出力, \n",
        "            size=(batch_size, max_length, d_model)\n",
        "        :return enc_slf_attn: tensor, EncoderのSelf Attentionの行列, \n",
        "            size=(n_head*batch_size, len_q, len_k)\n",
        "        \"\"\"\n",
        "        # Self-Attentionのquery, key, valueにはすべてEncoderの入力（enc_input）が入る\n",
        "        enc_output, enc_slf_attn = self.slf_attn(\n",
        "            enc_input, enc_input, enc_input, attn_mask=slf_attn_mask)\n",
        "        enc_output = self.pos_ffn(enc_output)\n",
        "        return enc_output, enc_slf_attn\n",
        "\n",
        "class Encoder(nn.Module):\n",
        "    \"\"\"EncoderLayerブロックからなるEncoderのクラス\"\"\"\n",
        "    def __init__(\n",
        "            self, n_src_vocab, max_length, n_layers=6, n_head=8, d_k=64, d_v=64,\n",
        "            d_word_vec=512, d_model=512, d_inner_hid=1024, dropout=0.1):\n",
        "        \"\"\"\n",
        "        :param n_src_vocab: int, 入力言語の語彙数\n",
        "        :param max_length: int, 最大系列長\n",
        "        :param n_layers: int, レイヤー数\n",
        "        :param n_head: int,　ヘッド数\n",
        "        :param d_k: int, keyベクトルの次元数\n",
        "        :param d_v: int, valueベクトルの次元数\n",
        "        :param d_word_vec: int, 単語の埋め込みの次元数\n",
        "        :param d_model: int, 隠れ層の次元数\n",
        "        :param d_inner_hid: int, Position Wise Feed Forward Networkの隠れ層2層目の次元数\n",
        "        :param dropout: float, ドロップアウト率        \n",
        "        \"\"\"\n",
        "        super(Encoder, self).__init__()\n",
        "\n",
        "        n_position = max_length + 1\n",
        "        self.max_length = max_length\n",
        "        self.d_model = d_model\n",
        "\n",
        "        # Positional Encodingを用いたEmbedding\n",
        "        self.position_enc = nn.Embedding(n_position, d_word_vec, padding_idx=PAD)\n",
        "        self.position_enc.weight.data = position_encoding_init(n_position, d_word_vec)\n",
        "\n",
        "        # 一般的なEmbedding\n",
        "        self.src_word_emb = nn.Embedding(n_src_vocab, d_word_vec, padding_idx=PAD)\n",
        "\n",
        "        # EncoderLayerをn_layers個積み重ねる\n",
        "        self.layer_stack = nn.ModuleList([\n",
        "            EncoderLayer(d_model, d_inner_hid, n_head, d_k, d_v, dropout=dropout)\n",
        "            for _ in range(n_layers)])\n",
        "\n",
        "    def forward(self, src_seq, src_pos):\n",
        "        \"\"\"\n",
        "        :param src_seq: tensor, 入力系列, \n",
        "            size=(batch_size, max_length)\n",
        "        :param src_pos: tensor, 入力系列の各単語の位置情報,\n",
        "            size=(batch_size, max_length)\n",
        "        :return enc_output: tensor, Encoderの最終出力, \n",
        "            size=(batch_size, max_length, d_model)\n",
        "        :return enc_slf_attns: list, EncoderのSelf Attentionの行列のリスト\n",
        "        \"\"\"\n",
        "        # 一般的な単語のEmbeddingを行う\n",
        "        enc_input = self.src_word_emb(src_seq)\n",
        "        # Positional EncodingのEmbeddingを加算する\n",
        "        enc_input += self.position_enc(src_pos)\n",
        "\n",
        "        enc_slf_attns = []\n",
        "        enc_output = enc_input\n",
        "        # key(=enc_input)のPADに対応する部分のみ1のマスクを作成\n",
        "        enc_slf_attn_mask = get_attn_padding_mask(src_seq, src_seq)\n",
        "\n",
        "        # n_layers個のEncoderLayerに入力を通す\n",
        "        for enc_layer in self.layer_stack:\n",
        "            enc_output, enc_slf_attn = enc_layer(\n",
        "                enc_output, slf_attn_mask=enc_slf_attn_mask)\n",
        "            enc_slf_attns += [enc_slf_attn]\n",
        "\n",
        "        return enc_output, enc_slf_attns\n",
        "\n",
        "class DecoderLayer(nn.Module):\n",
        "    \"\"\"Decoderのブロックのクラス\"\"\"\n",
        "    def __init__(self, d_model, d_inner_hid, n_head, d_k, d_v, dropout=0.1):\n",
        "        \"\"\"\n",
        "        :param d_model: int, 隠れ層の次元数\n",
        "        :param d_inner_hid: int, Position Wise Feed Forward Networkの隠れ層2層目の次元数\n",
        "        :param n_head: int,　ヘッド数\n",
        "        :param d_k: int, keyベクトルの次元数\n",
        "        :param d_v: int, valueベクトルの次元数\n",
        "        :param dropout: float, ドロップアウト率\n",
        "        \"\"\"\n",
        "        super(DecoderLayer, self).__init__()\n",
        "        # Decoder内のSelf-Attention\n",
        "        self.slf_attn = MultiHeadAttention(n_head, d_model, d_k, d_v, dropout=dropout)\n",
        "        # Encoder-Decoder間のSource-Target Attention\n",
        "        self.enc_attn = MultiHeadAttention(n_head, d_model, d_k, d_v, dropout=dropout)\n",
        "        # Positionwise FFN\n",
        "        self.pos_ffn = PositionwiseFeedForward(d_model, d_inner_hid, dropout=dropout)\n",
        "\n",
        "    def forward(self, dec_input, enc_output, slf_attn_mask=None, dec_enc_attn_mask=None):\n",
        "        \"\"\"\n",
        "        :param dec_input: tensor, Decoderの入力, \n",
        "            size=(batch_size, max_length, d_model)\n",
        "        :param enc_output: tensor, Encoderの出力, \n",
        "            size=(batch_size, max_length, d_model)\n",
        "        :param slf_attn_mask: tensor, Self Attentionの行列にかけるマスク, \n",
        "            size=(batch_size, len_q, len_k)\n",
        "        :param dec_enc_attn_mask: tensor, Soutce-Target Attentionの行列にかけるマスク, \n",
        "            size=(batch_size, len_q, len_k)\n",
        "        :return dec_output: tensor, Decoderの出力, \n",
        "            size=(batch_size, max_length, d_model)\n",
        "        :return dec_slf_attn: tensor, DecoderのSelf Attentionの行列, \n",
        "            size=(n_head*batch_size, len_q, len_k)\n",
        "        :return dec_enc_attn: tensor, DecoderのSoutce-Target Attentionの行列, \n",
        "            size=(n_head*batch_size, len_q, len_k)\n",
        "        \"\"\"\n",
        "        # Self-Attentionのquery, key, valueにはすべてDecoderの入力（dec_input）が入る\n",
        "        dec_output, dec_slf_attn = self.slf_attn(\n",
        "            dec_input, dec_input, dec_input, attn_mask=slf_attn_mask)\n",
        "        # Source-Target-AttentionのqueryにはDecoderの出力(dec_output), key, valueにはEncoderの出力（enc_output）が入る\n",
        "        dec_output, dec_enc_attn = self.enc_attn(\n",
        "            dec_output, enc_output, enc_output, attn_mask=dec_enc_attn_mask)\n",
        "        dec_output = self.pos_ffn(dec_output)\n",
        "\n",
        "        return dec_output, dec_slf_attn, dec_enc_attn\n",
        "\n",
        "class Decoder(nn.Module):\n",
        "    \"\"\"DecoderLayerブロックからなるDecoderのクラス\"\"\"\n",
        "    def __init__(\n",
        "            self, n_tgt_vocab, max_length, n_layers=6, n_head=8, d_k=64, d_v=64,\n",
        "            d_word_vec=512, d_model=512, d_inner_hid=1024, dropout=0.1):\n",
        "        \"\"\"\n",
        "        :param n_tgt_vocab: int, 出力言語の語彙数\n",
        "        :param max_length: int, 最大系列長\n",
        "        :param n_layers: int, レイヤー数\n",
        "        :param n_head: int,　ヘッド数\n",
        "        :param d_k: int, keyベクトルの次元数\n",
        "        :param d_v: int, valueベクトルの次元数\n",
        "        :param d_word_vec: int, 単語の埋め込みの次元数\n",
        "        :param d_model: int, 隠れ層の次元数\n",
        "        :param d_inner_hid: int, Position Wise Feed Forward Networkの隠れ層2層目の次元数\n",
        "        :param dropout: float, ドロップアウト率        \n",
        "        \"\"\"\n",
        "        super(Decoder, self).__init__()\n",
        "        n_position = max_length + 1\n",
        "        self.max_length = max_length\n",
        "        self.d_model = d_model\n",
        "\n",
        "        # Positional Encodingを用いたEmbedding\n",
        "        self.position_enc = nn.Embedding(\n",
        "            n_position, d_word_vec, padding_idx=PAD)\n",
        "        self.position_enc.weight.data = position_encoding_init(n_position, d_word_vec)\n",
        "\n",
        "        # 一般的なEmbedding\n",
        "        self.tgt_word_emb = nn.Embedding(\n",
        "            n_tgt_vocab, d_word_vec, padding_idx=PAD)\n",
        "        self.dropout = nn.Dropout(dropout)\n",
        "\n",
        "        # DecoderLayerをn_layers個積み重ねる\n",
        "        self.layer_stack = nn.ModuleList([\n",
        "            DecoderLayer(d_model, d_inner_hid, n_head, d_k, d_v, dropout=dropout)\n",
        "            for _ in range(n_layers)])\n",
        "\n",
        "    def forward(self, tgt_seq, tgt_pos, src_seq, enc_output):\n",
        "        \"\"\"\n",
        "        :param tgt_seq: tensor, 出力系列, \n",
        "            size=(batch_size, max_length)\n",
        "        :param tgt_pos: tensor, 出力系列の各単語の位置情報,\n",
        "            size=(batch_size, max_length)\n",
        "        :param src_seq: tensor, 入力系列, \n",
        "            size=(batch_size, n_src_vocab)\n",
        "        :param enc_output: tensor, Encoderの出力, \n",
        "            size=(batch_size, max_length, d_model)\n",
        "        :return dec_output: tensor, Decoderの最終出力, \n",
        "            size=(batch_size, max_length, d_model)\n",
        "        :return dec_slf_attns: list, DecoderのSelf Attentionの行列のリスト \n",
        "        :return dec_slf_attns: list, DecoderのSelf Attentionの行列のリスト\n",
        "        \"\"\"\n",
        "        # 一般的な単語のEmbeddingを行う\n",
        "        dec_input = self.tgt_word_emb(tgt_seq)\n",
        "        # Positional EncodingのEmbeddingを加算する\n",
        "        dec_input += self.position_enc(tgt_pos)\n",
        "\n",
        "        # Self-Attention用のマスクを作成\n",
        "        # key(=dec_input)のPADに対応する部分が1のマスクと、queryから見たkeyの未来の情報に対応する部分が1のマスクのORをとる\n",
        "        dec_slf_attn_pad_mask = get_attn_padding_mask(tgt_seq, tgt_seq)  # (N, max_length, max_length)\n",
        "        dec_slf_attn_sub_mask = get_attn_subsequent_mask(tgt_seq)  # (N, max_length, max_length)\n",
        "        dec_slf_attn_mask = torch.gt(dec_slf_attn_pad_mask + dec_slf_attn_sub_mask, 0)  # ORをとる\n",
        "\n",
        "        # key(=dec_input)のPADに対応する部分のみ1のマスクを作成\n",
        "        dec_enc_attn_pad_mask = get_attn_padding_mask(tgt_seq, src_seq)  # (N, max_length, max_length)\n",
        "\n",
        "        dec_slf_attns, dec_enc_attns = [], []\n",
        "\n",
        "        dec_output = dec_input\n",
        "        # n_layers個のDecoderLayerに入力を通す\n",
        "        for dec_layer in self.layer_stack:\n",
        "            dec_output, dec_slf_attn, dec_enc_attn = dec_layer(\n",
        "                dec_output, enc_output,\n",
        "                slf_attn_mask=dec_slf_attn_mask,\n",
        "                dec_enc_attn_mask=dec_enc_attn_pad_mask)\n",
        "\n",
        "            dec_slf_attns += [dec_slf_attn]\n",
        "            dec_enc_attns += [dec_enc_attn]\n",
        "\n",
        "        return dec_output, dec_slf_attns, dec_enc_attns\n",
        "\n",
        "class Transformer(nn.Module):\n",
        "    \"\"\"Transformerのモデル全体のクラス\"\"\"\n",
        "    def __init__(\n",
        "            self, n_src_vocab, n_tgt_vocab, max_length, n_layers=6, n_head=8,\n",
        "            d_word_vec=512, d_model=512, d_inner_hid=1024, d_k=64, d_v=64,\n",
        "            dropout=0.1, proj_share_weight=True):\n",
        "        \"\"\"\n",
        "        :param n_src_vocab: int, 入力言語の語彙数\n",
        "        :param n_tgt_vocab: int, 出力言語の語彙数\n",
        "        :param max_length: int, 最大系列長\n",
        "        :param n_layers: int, レイヤー数\n",
        "        :param n_head: int,　ヘッド数\n",
        "        :param d_k: int, keyベクトルの次元数\n",
        "        :param d_v: int, valueベクトルの次元数\n",
        "        :param d_word_vec: int, 単語の埋め込みの次元数\n",
        "        :param d_model: int, 隠れ層の次元数\n",
        "        :param d_inner_hid: int, Position Wise Feed Forward Networkの隠れ層2層目の次元数\n",
        "        :param dropout: float, ドロップアウト率        \n",
        "        :param proj_share_weight: bool, 出力言語の単語のEmbeddingと出力の写像で重みを共有する        \n",
        "        \"\"\"\n",
        "        super(Transformer, self).__init__()\n",
        "        self.encoder = Encoder(\n",
        "            n_src_vocab, max_length, n_layers=n_layers, n_head=n_head,\n",
        "            d_word_vec=d_word_vec, d_model=d_model,\n",
        "            d_inner_hid=d_inner_hid, dropout=dropout)\n",
        "        self.decoder = Decoder(\n",
        "            n_tgt_vocab, max_length, n_layers=n_layers, n_head=n_head,\n",
        "            d_word_vec=d_word_vec, d_model=d_model,\n",
        "            d_inner_hid=d_inner_hid, dropout=dropout)\n",
        "        self.tgt_word_proj = nn.Linear(d_model, n_tgt_vocab, bias=False)\n",
        "        nn.init.xavier_normal_(self.tgt_word_proj.weight)\n",
        "        self.dropout = nn.Dropout(dropout)\n",
        "\n",
        "        assert d_model == d_word_vec  # 各モジュールの出力のサイズは揃える\n",
        "\n",
        "        if proj_share_weight:\n",
        "            # 出力言語の単語のEmbeddingと出力の写像で重みを共有する\n",
        "            assert d_model == d_word_vec\n",
        "            self.tgt_word_proj.weight = self.decoder.tgt_word_emb.weight\n",
        "\n",
        "    def get_trainable_parameters(self):\n",
        "        # Positional Encoding以外のパラメータを更新する\n",
        "        enc_freezed_param_ids = set(map(id, self.encoder.position_enc.parameters()))\n",
        "        dec_freezed_param_ids = set(map(id, self.decoder.position_enc.parameters()))\n",
        "        freezed_param_ids = enc_freezed_param_ids | dec_freezed_param_ids\n",
        "        return (p for p in self.parameters() if id(p) not in freezed_param_ids)\n",
        "\n",
        "    def forward(self, src, tgt):\n",
        "        src_seq, src_pos = src\n",
        "        tgt_seq, tgt_pos = tgt\n",
        "\n",
        "        src_seq = src_seq[:, 1:]\n",
        "        src_pos = src_pos[:, 1:]\n",
        "        tgt_seq = tgt_seq[:, :-1]\n",
        "        tgt_pos = tgt_pos[:, :-1]\n",
        "\n",
        "        enc_output, *_ = self.encoder(src_seq, src_pos)\n",
        "        dec_output, *_ = self.decoder(tgt_seq, tgt_pos, src_seq, enc_output)\n",
        "        seq_logit = self.tgt_word_proj(dec_output)\n",
        "\n",
        "        return seq_logit\n",
        "\n"
      ],
      "execution_count": 24,
      "outputs": []
    },
    {
      "cell_type": "markdown",
      "metadata": {
        "id": "d7zNO8o8BEgO"
      },
      "source": [
        "# 物体検知・セグメンテーション"
      ]
    },
    {
      "cell_type": "markdown",
      "metadata": {
        "id": "YDMzxq6MBElK"
      },
      "source": [
        "## 概要\n",
        "- 物体検知、セグメンテーションの出力は、それぞれBounding Box（物体を囲む矩形）、クラスラベル（1ピクセルに付き1ラベルが割り当てられる）となる。タスクの難易度としては分類<物体検知<セグメンテーションとなる。分類問題においては物体の位置に関心がないのに対し、物体検知、セグメンテーションにおいては物体の位置こそが意味を持つ、出力したいものそのものになる。\n",
        "- 代表的なデータセットとしては以下がある。\n",
        "  - VOC12\n",
        "  - ILSVRC17\n",
        "  - MS COCO18\n",
        "  - OICOD18"
      ]
    },
    {
      "cell_type": "markdown",
      "metadata": {
        "id": "TMF7RBlcB2qa"
      },
      "source": [
        "## 確認テスト\n",
        "- 本セクションではなし。"
      ]
    },
    {
      "cell_type": "markdown",
      "metadata": {
        "id": "O3wpNPvpBEpi"
      },
      "source": [
        "## 実装演習\n",
        "- 本セクションではなし。"
      ]
    }
  ]
}